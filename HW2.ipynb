{
 "cells": [
  {
   "cell_type": "markdown",
   "metadata": {
    "id": "MxoFPTTof33v"
   },
   "source": [
    "# ORIE 4580/5580/5581 Assignment 2\n",
    "\n",
    "#### Students:Kexin Wang (kw677) and Junliang Wu (jw2727)"
   ]
  },
  {
   "cell_type": "markdown",
   "metadata": {
    "id": "54CO0k9tgKAJ"
   },
   "source": [
    "### Instructions\n",
    "\n",
    "\n",
    "* Due Friday September 8, at 11.59am on Gradescope.\n",
    "* Assignment .ipynb files available for download on [Canvas](https://canvas.cornell.edu/courses/56826#:~:text=Assignments-,Assignments,-Assignments%20Module%20publish). Do all your work in provided notebook (text answers typeset in markdown; show all required code and generate plots inline), and then generate and submit a pdf.\n",
    "* Ideally do assignments in groups of 2, and submit a single pdf with both names\n",
    "* Please show your work and clearly mark your answers.\n",
    "* You can use any code fragments given in class, found online (for example, on StackOverflow), or generated via Bard or ChatGPT (you are encouraged to use these for first drafts) **with proper referencing**. You can also discuss with others (again, please reference them if you do so); but you must write your final answers on your own as a team.\n",
    "\n",
    "\n",
    "\n",
    "### Suggested reading\n",
    "\n",
    "Chapters 4 and 6 of [Introduction to Probability](https://chance.dartmouth.edu/teaching_aids/books_articles/probability_book/book.html) by Grinstead and Snell. You can skip things that seem more advanced, like the Beta distribution in $Ch\\, 4$ and the part on queueing in $Ch\\,6$ - the part about paradoxes in probability is also strictly speaking not required$\\ldots$(but I would never recommend *not* reading that!)"
   ]
  },
  {
   "cell_type": "code",
   "execution_count": 179,
   "metadata": {
    "id": "sNVb3XlKf33w"
   },
   "outputs": [],
   "source": [
    "#importing necessary packages\n",
    "import numpy as np\n",
    "import matplotlib.pyplot as plt\n",
    "%matplotlib inline"
   ]
  },
  {
   "cell_type": "markdown",
   "metadata": {
    "id": "cGCcGZKXn7F_"
   },
   "source": [
    "\n",
    "---\n",
    "\n",
    "---\n",
    "\n",
    "## Question 1: Practice with expectation and variance (25 pts)\n",
    "\n",
    "\n",
    "\n",
    "---\n",
    "\n",
    "\n",
    "**(a)** Given a coin which comes up *Heads* with probability $p$, let $N_p$ denote the number of times the coin is tossed until the first *Heads*. Argue that $$N_p = \\begin{cases} 1 & \\text{with probability } p\\\\ 1+\\tilde{N}_p & \\text{with probability } 1-p \\end{cases}$$\n",
    "where $\\tilde{N}_p$ is an independent random variable with the same distribution as $N_p$.\n",
    "Using this, show that $\\mathbb{E}[N_p] = 1/p$. Also use a similar argument to find $Var(N_p)$.\n",
    "\n",
    "*Note: The rv $N_p$ is said to be a Geometric$(p)$ rv; it has pmf $p(k) = (1-p)^{k-1}p$.*\n",
    "\n",
    "\n",
    "\n",
    "---\n",
    "\n"
   ]
  },
  {
   "cell_type": "markdown",
   "metadata": {
    "id": "jtpKXrGeoqTV"
   },
   "source": [
    "### Ans.\n",
    "Let I1 be the indicator variable of success for the first trial. If the first one is success then $N_{p}=1$. If it is failure, then based on the question, we know $N_{p}=1+\\tilde{N}_p$, where $\\tilde{N}_p$ is an independent random variable with the same distribution as $N_{p}$ and it is independent with $I_{1}$. Now, it leads to the identity $N_{p}= I_{1} + (1-I_{1})(1+\\tilde{N}_p)$.\n",
    "\n",
    "\n",
    "$E(N_{p}) = E(I_{1}) + E((1-I_{1})(1+\\tilde{N}_p)) = E(I_{1}) + E(1-I_{1})E(1+\\tilde{N}_p)$ (since we know they are independent) $= p + (1-p)(1+E(\\tilde{N}_p))$.\n",
    "\n",
    "\n",
    "Since $N_{p}$ has the same distribution as $\\tilde{N}_p$, we know $E(N_{p}) = E(\\tilde{N}_p)$. Thus, $E(N_{p}) = p + (1-p) + (1-p)E(N_{p})$. \n",
    "\n",
    "So $E(N_{p}) = \\frac{1}{p}$.\n",
    "$$ $$\n",
    "$$ $$\n",
    "$$ $$\n",
    "$$ $$\n",
    "$$ $$\n",
    "$$ $$\n",
    "Then, \n",
    "$$\n",
    "E(N_{p}^{2}) = E(I_{1}^{2}) + 2E(I_{1}(1-I_{1}))E(1+\\tilde{N}_p) + E(1-I_{1})^{2}E(1+\\tilde{N}_p)^{2}) = p + 2[E(I_{1}) + E(I_{1})E(\\tilde{N}_p) - E(I_{1}^{2}) - E(I_{1})E(\\tilde{N}_p)] + E(1-2I_{1}+I_{1})E(1+2\\tilde{N}_p+\\tilde{N}_p^{2}) = p + 0 + (1-p)(1+\\frac{2}{p}+E(N_{p}^{2}))\n",
    "$$\n",
    "\n",
    "Thus, we have\n",
    "$$\n",
    "E(N_{p}^{2}) = p + (1-p)(1+\\frac{2}{p})+(1-p)E(N_{p}^{2})\n",
    "$$\n",
    "$$\n",
    "E(N_{p}^{2}) = \\frac{\\frac{2}{p} - 1}{p} = \\frac{2-p}{p^{2}}\n",
    "$$\n",
    "Therefore, \n",
    "$$\n",
    "Var(N_{p}) = E(N_{p}^{2}) - E(N_{p})^{2} = \\frac{2-p}{p^{2}} - \\frac{1}{p^{2}} = \\frac{1-p}{p^{2}}\n",
    "$$\n",
    "$$ $$\n",
    "$$ $$\n",
    "$$ $$\n",
    "$$ $$"
   ]
  },
  {
   "cell_type": "markdown",
   "metadata": {},
   "source": [
    "Reference: Drafted by Chatgpt"
   ]
  },
  {
   "cell_type": "markdown",
   "metadata": {
    "id": "UqZYCOzjMCat"
   },
   "source": [
    "___\n",
    "\n",
    "**(b)** In the previous assignment you estimated $\\pi$ by sampling uniform random points $(X,Y)$ in $[-1,1]\\times[-1,1]$, and checking if they fell within the circle. Suppose instead you sampled $n$ points uniformly in $[0,1]\\times[0,1]$ and checked if $X^2+Y^2\\leq 1$. Let $N_c$ be the number of points satisfying this; what is $\\mathbb{E}[N_c]$ and $\\text{Var}(N_c)$? Can you use this to get a better estimate of $\\pi$ (i.e., with tighter confidence intervals given the same number of samples $n$)?\n",
    "\n",
    "___"
   ]
  },
  {
   "cell_type": "markdown",
   "metadata": {
    "id": "WeZA2DkzNQcE"
   },
   "source": [
    "### Ans.\n",
    "First, we discuss about the distribution of variable $N_{circle}$. Recall the definition of Binomial random variable, since the case is that if the points lie in circle or not, we can know it can be counted as a bernoulli trial. Now, this Bernoulli trial is repeated n(total num of points) times independently and $N_{circle}$ is the number of successes in these n independent trials. $N_{circle}$ is a binomial random variable with parmeters number of n and p. \n",
    "\n",
    "From the question, we are generating points uniformly distributed in a square (side length = 1, and so the area is 1) with a circle(radius = $\\frac{1}{2}$, so the area is $\\frac{\\pi}{4}$. Therefore, the probability that a randomly generated point falls within the circle is: $p=\\frac{\\pi}{4}$\n",
    "\n",
    "Now, recall the properties of binomial distribution, we know $E[N_{circle}] = n*p = n*\\frac{\\pi}{4}.  \\> Var(N_{circle})=np(1-p)=n*\\frac{\\pi}{4}*(1-\\frac{\\pi}{4})$\n",
    "\n",
    "Therefore, we can notice that the mean and variance are actually the same as before. However, since we have tighter interval ([0,1] * [0,1] compare to [-1,1] * [-1,1]), we will have less value of the sample mean which is the everage number of points that fall inside the unit cycle. Thus, by using the formula of confident interval, we can get a better estimate of $\\pi$. \n",
    "$$ $$\n",
    "$$ $$\n",
    "$$ $$\n",
    "$$ $$"
   ]
  },
  {
   "cell_type": "markdown",
   "metadata": {},
   "source": [
    "Reference: Drafted by Chatgpt"
   ]
  },
  {
   "cell_type": "markdown",
   "metadata": {
    "id": "U25Qyhy3pL0J"
   },
   "source": [
    "---\n",
    "**(c)** The elevators in Rhodes Hall stop at $6$ floors. Suppose one morning you get in on the ground floor with $3$ other people, and each one of you wants to go to a floor in $\\{2,3,4,5,6\\}$ chosen uniformly at random, and independently of the others' choices. At how many floors will the elevator stop on average?\n",
    "\n",
    "\n",
    "---"
   ]
  },
  {
   "cell_type": "markdown",
   "metadata": {
    "id": "KRd2JKsBpa2W"
   },
   "source": [
    "### Ans.\n",
    "\n",
    "\n",
    "From the question, we know there are 4 people and 5 floors. Since each of 4 people chooses the floor uniformly at random and independently of the others' choice, the probability for anyone chooses any particular floor is $\\frac{1}{5}$. Then, we can find the probability that no one wants to choose that particular floor which is $\\frac{4}{5}^{4}$. So, the probability that at least one person chooses that particular floor is $1 - \\frac{4}{5}^{4}$. \n",
    "\n",
    "Therefore, to find how many floors will the elevator stop on average is actually to find the expected value of it.\n",
    "$$\n",
    "E(number \\,\\,of\\,\\, floors) = (1 - (\\frac{4}{5})^{4})*5 = 2.952\n",
    "$$"
   ]
  },
  {
   "cell_type": "markdown",
   "metadata": {},
   "source": [
    "Reference: Drafted by Chatgpt"
   ]
  },
  {
   "cell_type": "markdown",
   "metadata": {
    "id": "vnBeLBSSpmsF"
   },
   "source": [
    "---\n",
    "\n",
    "(d) For your next simulation homework, you pair up with a student you have not met before. At some point, you get bored of the homework, and decide to count how many common friends you have at Cornell. Suppose the total number of students at Cornell is $22,000$, out of which you have $500$ friends, and your homework partner has $440$. Assuming that for both of you, your friends form independent and uniform random samplings of the total student population, what is the expected number of friends you both have in common?\n",
    "\n",
    "---"
   ]
  },
  {
   "cell_type": "markdown",
   "metadata": {
    "id": "spdv-KpipzKE"
   },
   "source": [
    "### Ans.\n",
    "\n",
    "\n",
    "First, considering about the probability that any particular friend of mine is also a friend of my homework partner. Since the friends are chosen uniformly at random from the entire student population, the probability should be $\\frac{440}{22000}$. Now, we can consider the event that being a mutual friend is a bernoulli trial. Thus, if this bernoulli trial repeats 500 times (I have 500 friends), the expected number of friends we both have in common is $500 * \\frac{440}{22000} = 10$"
   ]
  },
  {
   "cell_type": "markdown",
   "metadata": {},
   "source": [
    "Reference: Drafted by Chatgpt"
   ]
  },
  {
   "cell_type": "markdown",
   "metadata": {
    "id": "qmO0bQhef33x"
   },
   "source": [
    "___\n",
    "___\n",
    "\n",
    "## Question 2: Pooled Testing (30 pts) ##\n",
    "\n",
    "\n",
    "In 2020 Fall, Cornell adopted pooled testing to test a large population with a limited number of Covid tests. In pooled testing a sample is taken from each person and split into two subsamples. The first subsample from each person is pooled with those of $n-1$ other people into a single pooled sample of size $n$ people. (Cornell eventually used $n=5$.) If the pooled test comes back negative, then we declare all $n$ people in the pool to be\n",
    "negative. If the pooled test comes back positive, we then individually test the second subsample from every person in the pool. In this question we'll explore the effects of different pool sizes $n$.\n",
    "\n",
    "---\n",
    "\n",
    "**(a)** The *prevalence* $p$ at the time of testing is defined to be the true fraction of people with Covid in the population. Now let $N$ be the number of (true) Covid-positive people in a pool of size $n$. What would you use as a model for the distribution of $N$, if you knew the $n$ people in the pool $(i)$ had never met each other in the last week, and $(ii)$ all lived in the same house. In each case, what is the mean and variance of $N$?\n",
    "\n",
    "---"
   ]
  },
  {
   "cell_type": "markdown",
   "metadata": {
    "id": "F2kHkbTdrBIT"
   },
   "source": [
    "### Ans.\n",
    "\n",
    "* **Assuption 1**: Since we know the n peopel in the pool had never met each other in the last week and all lived in the same house, we can assume the test result of each person is independent of each other. \n",
    "* **Assuptions 2**: Since those people belong to the same pool all live in the same house, meaning that they all live under same condition and by nature can be pooled together.\n",
    "* **Assuptions 3**: If an individual's test result is positive, then we claim that person has Covid. We assume no false positives and no false negatives.\n",
    "\n",
    "We can use binomial distribution as a model of N because it represents the number of successes (positive test) among independent trials(n people in the same pool), and the probability of each test to be tested positive is $p$. Therefore in our case, we can model N using $Binomial\\,(n,\\,p)$.\n",
    "\n",
    "* The mean of binomial distribution is: $\\mu= n * p$\n",
    "\n",
    "* The variance of binomial distribution is: $\\sigma^2= n * p * (1 - p)$\n",
    "\n",
    "Where n is the number of people in a pool, and p is the prevalence(true fraction of people with Covid in the population)\n",
    "\n"
   ]
  },
  {
   "cell_type": "markdown",
   "metadata": {
    "id": "mIEZB79KrP0I"
   },
   "source": [
    "___\n",
    "\n",
    "**(b)** Suppose that the test has no *false positives* and no *false negatives*; it comes back positive if **anyone** in the pool is positive and comes back negative if all people in the pool are negative. Let $T$ be the number of tests you need to be *sure* of each persons status (i.e., if they are COVID positive or not). What is the distribution of $T$, and what is its mean and variance? Clearly state all assumptions you are making.\n",
    "\n",
    "---"
   ]
  },
  {
   "cell_type": "markdown",
   "metadata": {
    "id": "b5x-E30Ex9xK"
   },
   "source": [
    "### Ans.\n",
    "* Assumptions: 1. There is no false positives and no false negatives, so positive means infected and negative menas not infected by the virus.\n",
    "* Assumptions: 2. The university's population is a fixed positive integer number N.\n",
    "* Assumptions: 3. If the pool test comes back negative then no test will conduct for the next step for this pool, so in total 1 test conducted.\n",
    "* Assumptions: 4. If the pool test comes back positive then every individual will be tested, so in total (n+1)tests.\n",
    "* Assumptions: 5. The number of students in the pool is a fixed positive integer number n.\n",
    "\n",
    "$\\,\\,\\,\\,$ **Define T to be the test conducted for each pool needed to be sure of each persons status**\\\n",
    "$\\,\\,\\,\\,$ **The probability for the pool test comes back negative is $(1-p)^n$ because everyone in the pool has to be not infected**\\\n",
    "$\\,\\,\\,\\,$ **The probability for the pool test comes back positive is $1-(1-p)^n$ because the pool test is either positive or negative and we already calculated the probability for it to be negative**\\\n",
    "\\begin{equation}\n",
    "    T =\n",
    "    \\left\\{\n",
    "        \\begin{array}{cc}\n",
    "                1 & \\mathrm{with\\; probability\\,\\ } (1-p)^n \\\\\n",
    "                1+n & \\mathrm{with \\;probability\\,\\ } 1-(1-p)^n \\\\\n",
    "        \\end{array} \n",
    "    \\right.\n",
    "\\end{equation}\n",
    "\\\n",
    "$E(T) = 1*(1-p)^n + (n+1) * (1-(1-p)^n)$\\\n",
    "$Var(T) = E(T^2) - E^2(T) $\\\n",
    "$E(T^2) = 1^2 * (1-p)^n + (n+1)^2 * (1-(1-p)^n)$\\\n",
    "Therefore\\, $Var(T) = E(T^2) - E^2(T)=[1^2 * (1-p)^n + (n+1)^2 * (1-(1-p)^n)] -  [1*(1-p)^n + (n+1) * (1-(1-p)^n)]^2$\n",
    "$$ $$\n",
    "$$ $$\n",
    "$$ $$\n",
    "$$ $$"
   ]
  },
  {
   "cell_type": "markdown",
   "metadata": {
    "id": "lVudUJOOyV8l"
   },
   "source": [
    "___\n",
    "\n",
    "**(c)** What is the pool size $n$ that minimizes the average number of tests per person when the prevalence is $0.0001$? What about when prevalence is $0.01$? You should do this numerically using plots (i.e., without calculus), as this is helps explain your recommendation to decision-makers (note though that you may want to test different ranges of $n$ for each setting).\n",
    "\n",
    "---"
   ]
  },
  {
   "cell_type": "markdown",
   "metadata": {
    "id": "FlZqL3MPzO6a"
   },
   "source": [
    "### Ans.\n",
    "\n"
   ]
  },
  {
   "cell_type": "code",
   "execution_count": 180,
   "metadata": {
    "id": "pko5OogAzfrn",
    "scrolled": true
   },
   "outputs": [
    {
     "data": {
      "image/png": "[encoded data removed]",
      "text/plain": [
       "<Figure size 432x288 with 1 Axes>"
      ]
     },
     "metadata": {
      "needs_background": "light"
     },
     "output_type": "display_data"
    },
    {
     "name": "stdout",
     "output_type": "stream",
     "text": [
      "101\n",
      "Optimized pool size is : 101\n"
     ]
    }
   ],
   "source": [
    "import matplotlib.pyplot as plt\n",
    "\n",
    "# Prevalence rates\n",
    "p = 0.0001\n",
    "\n",
    "# Range of pool sizes (n)\n",
    "pool_sizes = range(1, 600)  # Vary n from 2 to 100\n",
    "\n",
    "# Calculate E(T) for each pool size\n",
    "expected_tests = []\n",
    "for n in pool_sizes:\n",
    "    E_T = ((1 - (1 - p)**n) * (n+1) + (1 - p)**n * 1) / n\n",
    "    expected_tests.append(E_T)\n",
    "    \n",
    "# Plot the results\n",
    "plt.plot(pool_sizes, expected_tests)\n",
    "plt.xlabel('Pool Size (n)')\n",
    "plt.ylabel('Expected Tests per Person (E(T))')\n",
    "plt.title('Expected Tests per Person vs. Pool Size (Prevalence = 0.0001)')\n",
    "plt.grid(True)\n",
    "plt.show()\n",
    "min_pool_size_1 = pool_sizes[np.argmin(expected_tests)]\n",
    "print(min_pool_size_1)\n",
    "print(\"Optimized pool size is :\",min_pool_size_1)"
   ]
  },
  {
   "cell_type": "code",
   "execution_count": 181,
   "metadata": {},
   "outputs": [
    {
     "data": {
      "image/png": "[encoded data removed]",
      "text/plain": [
       "<Figure size 432x288 with 1 Axes>"
      ]
     },
     "metadata": {
      "needs_background": "light"
     },
     "output_type": "display_data"
    },
    {
     "name": "stdout",
     "output_type": "stream",
     "text": [
      "Optimized pool size is : 11\n"
     ]
    }
   ],
   "source": [
    "p = 0.01\n",
    "\n",
    "# Range of pool sizes (n)\n",
    "pool_sizes = range(1, 1000)  # Vary n from 2 to 100\n",
    "\n",
    "# Calculate E(T) for each pool size\n",
    "expected_tests = []\n",
    "for n in pool_sizes:\n",
    "    E_T = ((1 - (1 - p)**n) * (n+1) + (1 - p)**n * 1) / n\n",
    "    expected_tests.append(E_T)\n",
    "#print(expected_tests)\n",
    "# Plot the results\n",
    "plt.plot(pool_sizes, expected_tests)\n",
    "plt.xlabel('Pool Size (n)')\n",
    "plt.ylabel('Expected Tests per Person (E(T))')\n",
    "plt.title('Expected Tests per Person vs. Pool Size (Prevalence = 0.01)')\n",
    "plt.grid(True)\n",
    "plt.show()\n",
    "\n",
    "min_pool_size_2 = pool_sizes[np.argmin(expected_tests)]\n",
    "print(\"Optimized pool size is :\", min_pool_size_2 )"
   ]
  },
  {
   "cell_type": "markdown",
   "metadata": {},
   "source": [
    "Reference: The code was drafted by Chatgpt"
   ]
  },
  {
   "cell_type": "markdown",
   "metadata": {
    "id": "P_G3haZcpAfc"
   },
   "source": [
    "\n",
    "\n",
    "---\n",
    "\n",
    "**(d)** A more critical characteristic of pooled tests is the false negative rate, which is the probability that a test comes back negative when at least one person in the pool is Covid positive. False negatives are dangerous, because the person (or people) with Covid in the pool can infect others until Covid is otherwise detected or they become no longer infectious.\n",
    "\n",
    "You know that false negatives must be more likely when there is a low viral load in a sample. To understand how to model false negatives in PCR tests, you consult with your friend who is a biologist, who tells you that the viral load $V$ in a PCR sample is measured using something called the cycle threshold (CT) score of a PCR test, which is equivalent to $C = -\\log_2 V$. The viral load for a Covid-negative person is $V=0$. In a pooled sample of size $n$, each person contributes a fraction $1/n$ of the sample, and the resulting viral load has a total CT score of:\n",
    "$$-\\log_2 \\left(\\frac 1 n \\sum_{i=1}^n 2^{-C_i}\\right),$$\n",
    "where $C_1, C_2, \\ldots, C_n$ are the CT scores of each person in the pool. Finally, your friend recalls that probability $\\mathbb{P}[\\text{false negative test}|C]$ of a false negative in a single PCR test is well modeled either as\n",
    "$\\frac{1}{1 + \\exp(-10(C - 35))}$ or $\\frac{1}{1 + \\exp(10(C - 35))}$ (but he can not remember which one 🙁).\n",
    "\n",
    "Can you figure out what the correct model is?\n",
    "\n",
    "---\n",
    "\n"
   ]
  },
  {
   "cell_type": "markdown",
   "metadata": {
    "id": "b5GdqFCzsiTA"
   },
   "source": [
    "### Ans.\n",
    "We understand that the $\\mathbb{P}[\\text{false negative test}|C]$ is larger when the viral load is low. And viral load can be derived by $V = \\frac{1}{2^C}$ and in a pool it is calculated as $\\left(\\frac 1 n \\sum_{i=1}^n 2^{-C_i}\\right)$\n",
    "We can test when C is increasing how the V is going to change to determine which model is correct. As we can the from the graph below, when C is increasing the first model increases and the second model decreases and we also know that larger C indicates smaller V, we can conclude that the model we want can give us larger $\\mathbb{P}[\\text{false negative test}|C]$ when V is small. Therefore model 1: $\\frac{1}{1 + \\exp(-10(C - 35))}$ is the correct model.\\\n",
    "In other words, when C is larger, V is smaller, and we want to choose the model gives larger false negative probability when V is small. So when C is increasing, we want the false negative probability is also increasing.\n"
   ]
  },
  {
   "cell_type": "code",
   "execution_count": 182,
   "metadata": {},
   "outputs": [
    {
     "data": {
      "image/png": "[encoded data removed]",
      "text/plain": [
       "<Figure size 720x432 with 1 Axes>"
      ]
     },
     "metadata": {
      "needs_background": "light"
     },
     "output_type": "display_data"
    }
   ],
   "source": [
    "C_values = np.linspace(20, 50, 100)  # Adjust the range as needed\n",
    "\n",
    "# Define the two models\n",
    "def model_1(C):\n",
    "    return 1 / (1 + np.exp(-10 * (C - 35)))\n",
    "\n",
    "def model_2(C):\n",
    "    return 1 / (1 + np.exp(10 * (C - 35)))\n",
    "\n",
    "# Calculate probabilities using both models\n",
    "probabilities_1 = model_1(C_values)\n",
    "probabilities_2 = model_2(C_values)\n",
    "\n",
    "# Create a plot\n",
    "plt.figure(figsize=(10, 6))\n",
    "plt.plot(C_values, probabilities_1, label='Model 1: 1 / (1 + exp(-10(C - 35)))')\n",
    "plt.plot(C_values, probabilities_2, label='Model 2: 1 / (1 + exp(10(C - 35)))')\n",
    "plt.xlabel('Cycle Threshold (CT) Score')\n",
    "plt.ylabel('Probability of False Negative')\n",
    "plt.title('Probability of False Negative vs. Cycle Threshold (CT) Score')\n",
    "plt.legend()\n",
    "plt.grid(True)\n",
    "plt.show()\n",
    "\n",
    "\n",
    "\n",
    "\n"
   ]
  },
  {
   "cell_type": "markdown",
   "metadata": {},
   "source": [
    "Reference: The code was drafted by Chatgpt"
   ]
  },
  {
   "cell_type": "markdown",
   "metadata": {
    "id": "-gl2YJrorGkf"
   },
   "source": [
    "\n",
    "\n",
    "---\n",
    "\n",
    "\n",
    "**(e)** You consult the epidemiology literature and find that the viral load for a Covid-positive person has been found from data to have a CT score $C$ that is well modeled via a *mixture of Gaussian* distribution as follows: with probability $0.40$, $C$ is $\\mathcal{N}(20, 3.5^2)$ (i.e., normally distributed with mean 20 and variance $3.5^2$); with probability $0.5$, $C$ is $\\mathcal{N}(30, 3^2)$, and otherwise,  $C$ is $\\mathcal{N}(34.78, 1.32^2)$.\n",
    "\n",
    "Use this data with the above model to estimate the probability of a false negative in a pooled test of size $n$ containing a single Covid-positive person as a function of $n$. You'll need to generate, say, $m$ replications of the pooled test at each value of $n$, where you should choose $m$ to ensure that your results are meaningful. Report your results as a graph with the false negative rate on the $y$-axis and the pool size $n$ ranging from 1 to 50 on the $x$-axis. Select your simulation runlength so that your estimates would be useful in practice (for example, estimates that are $\\pm$ 0.02 or so are sufficiently accurate).\n",
    "\n",
    "\n",
    "---\n"
   ]
  },
  {
   "cell_type": "markdown",
   "metadata": {
    "id": "7TgVoe_dseOb"
   },
   "source": [
    "### Ans.\n",
    "\n"
   ]
  },
  {
   "cell_type": "code",
   "execution_count": 183,
   "metadata": {
    "id": "zQu1pSVIrFmk",
    "scrolled": true
   },
   "outputs": [
    {
     "data": {
      "image/png": "[encoded data removed]",
      "text/plain": [
       "<Figure size 360x216 with 1 Axes>"
      ]
     },
     "metadata": {
      "needs_background": "light"
     },
     "output_type": "display_data"
    }
   ],
   "source": [
    "# Define parameters for the viral load distribution\n",
    "probs = [0.4, 0.5, 0.1]\n",
    "means = [20, 30, 34.78]\n",
    "variances = [3.52, 32, 1.322]\n",
    "\n",
    "# Function to sample a single CT score based on the mixture distribution\n",
    "def sample_ct_score():\n",
    "    component = np.random.choice(3, p=probs)\n",
    "    return np.random.normal(means[component], np.sqrt(variances[component]))\n",
    "\n",
    "# Function to simulate a pooled test for a given pool size (n)\n",
    "def simulate_pooled_test(n):\n",
    "    \n",
    "    # Generate CT scores for n individuals in the pool\n",
    "    simulated_ct_score = sample_ct_score()\n",
    "    \n",
    "    # Calculate the total CT score of the pooled sample\n",
    "    total_ct_score = -np.log2((2**(-simulated_ct_score)+(n-1)*2**(-np.inf))/n)\n",
    "    \n",
    "    false_negative = 1 / (1 + np.exp(-10 * (total_ct_score - 35)))\n",
    "    return false_negative\n",
    "\n",
    "# Parameters for simulation\n",
    "m_replications = 100000 # Number of replications for each value of n\n",
    "n_values = range(1, 51)  # Pool sizes from 1 to 50\n",
    "false_negative_rates = []\n",
    "\n",
    "for n in n_values:\n",
    "    false_negative_avg = np.mean([simulate_pooled_test(n) for i in range(m_replications)])\n",
    "    false_negative_rates.append( false_negative_avg)\n",
    "\n",
    "# Create a plot\n",
    "plt.figure(figsize=(5, 3))\n",
    "plt.plot(n_values, false_negative_rates)\n",
    "plt.xlabel('Pool Size (n)')\n",
    "plt.ylabel('False Negative Rate')\n",
    "plt.title('False Negative Rate vs. Pool Size (n)')\n",
    "plt.grid(True)\n",
    "plt.show()"
   ]
  },
  {
   "cell_type": "markdown",
   "metadata": {},
   "source": [
    "Reference: The code was drafted by Chatgpt"
   ]
  },
  {
   "cell_type": "markdown",
   "metadata": {
    "id": "l_IOsfDhf33y"
   },
   "source": [
    "## Question 3: Buffon and his magic needle (20 points)"
   ]
  },
  {
   "cell_type": "markdown",
   "metadata": {
    "id": "wyQBQHsERhuf"
   },
   "source": [
    "In the first class we saw Buffon's needle experiment in which we drop needles of length 1 on a floor of parallel lines that are equally spaced 1 unit apart. If we drop $n$ needles and $N_{cross}$ of them cross a line, then an estimate of $\\pi$ is $\\hat{\\pi}_n = 2n/N_{cross}$. We will now study how this works in practice (feel free to use the code provided in class)."
   ]
  },
  {
   "cell_type": "markdown",
   "metadata": {
    "id": "o5-ARlaCSEPy"
   },
   "source": [
    "\n",
    "---\n",
    "\n",
    "**(a)** For a range of values of $n$ between $10$ and $10,000$, perform $30$ replications of the Buffon needle experiment. For each value of $n$ you test, plot the average of the $30$ estimates $\\hat{\\pi}_n = n/N_{cross}$ and a 95\\% confidence interval for the expected value of $\\hat{\\pi}_n$. You should only be making one plot, with $n$ on the $x$-axis, and estimates and CIs on the $y$-axis.\n",
    "\n",
    "\n",
    "\n",
    "---\n",
    "\n"
   ]
  },
  {
   "cell_type": "markdown",
   "metadata": {
    "id": "JfPEcCaITWDS"
   },
   "source": [
    "### Ans."
   ]
  },
  {
   "cell_type": "code",
   "execution_count": 184,
   "metadata": {
    "id": "5bKOtz2CSDjB"
   },
   "outputs": [
    {
     "data": {
      "image/png": "[encoded data removed]",
      "text/plain": [
       "<Figure size 432x288 with 1 Axes>"
      ]
     },
     "metadata": {
      "needs_background": "light"
     },
     "output_type": "display_data"
    }
   ],
   "source": [
    "import numpy as np\n",
    "import matplotlib.pyplot as plt\n",
    "\n",
    "def buffon(N, length=1, dist=1, num_lines=3, seed=-1):    \n",
    "    if seed!=-1:\n",
    "        np.random.seed(seed)\n",
    "\n",
    "    # Generate random centers and angles of toothpicks\n",
    "    xcent = 1 + (num_lines-1) * np.random.rand(N)\n",
    "    ycent = 1 + (num_lines-1) * np.random.rand(N)\n",
    "    theta = (np.pi/2.0) * np.random.rand(N)\n",
    "\n",
    "    # Count number of times each toothpick touches a line\n",
    "    crossed = ((ycent - np.floor(ycent) - (length/2.0) * np.sin(theta) < 0).astype(int) + \n",
    "               (ycent - np.floor(ycent) + (length/2.0) * np.sin(theta) > dist).astype(int))\n",
    "\n",
    "    # Return toothpick endpoints, number of times each toothpick crosses\n",
    "    sim_data = list(zip(list(zip(xcent - (length/2.0) * np.cos(theta), ycent - (length/2.0) * np.sin(theta))),\n",
    "                        list(zip(xcent + (length/2.0) * np.cos(theta), ycent + (length/2.0) * np.sin(theta))),\n",
    "                        crossed))\n",
    "\n",
    "    return sim_data\n",
    "\n",
    "n = np.geomspace(10, 10000, 20).astype(int)\n",
    "replications = 30\n",
    "pi_estimates_new_corrected = []\n",
    "pi_confidence_intervals_new_corrected = []\n",
    "\n",
    "for i in n:\n",
    "    estimates_pi = []\n",
    "    for _ in range(replications):\n",
    "        sim_data = buffon(i)\n",
    "        N_cross = sum([data[2] for data in sim_data])\n",
    "        pi_hat_n = 2*i / N_cross if N_cross != 0 else np.inf\n",
    "        estimates_pi.append(pi_hat_n)\n",
    "        \n",
    "    mean_pi = np.mean(estimates_pi)\n",
    "    std_pi = np.std(estimates_pi, ddof=1)\n",
    "    ci = 1.96 * std_pi / np.sqrt(replications)    \n",
    "    pi_estimates_new_corrected.append(mean_pi)\n",
    "    pi_confidence_intervals_new_corrected.append(ci)\n",
    "\n",
    "plt.errorbar(n, pi_estimates_new_corrected, yerr=pi_confidence_intervals_new_corrected, \n",
    "             fmt='o-', capsize=5, label=\"Estimated $\\pi$\")\n",
    "plt.axhline(y=np.pi, color='r', label=\"True $\\pi$\")\n",
    "\n",
    "# Setting log scale for x-axis for making graph more clearly\n",
    "plt.xscale(\"log\")\n",
    "\n",
    "plt.xlabel(\"Number of Needles (n)\")\n",
    "plt.ylabel(\"Estimated $\\pi$\")\n",
    "plt.legend()\n",
    "plt.grid(True, which=\"both\", linewidth=0.5)\n",
    "plt.tight_layout()\n",
    "plt.show()\n",
    "\n"
   ]
  },
  {
   "cell_type": "markdown",
   "metadata": {},
   "source": [
    "Reference: Drafted by Chatgpt"
   ]
  },
  {
   "cell_type": "markdown",
   "metadata": {
    "id": "CxV2yEmlSbkC"
   },
   "source": [
    "\n",
    "---\n",
    "\n",
    "**(b)** You may notice from your plot in part (a) that the estimator $\\hat{\\pi}_n$ has some *bias*, i.e., $\\mathbb{E}[\\hat{\\pi}_n] \\neq \\pi$ (this may be more apparent for small values of $n$). Pick a small value (say, $n=100$), and do more replications (i.e., do multiple experiments, where in each experiment you throw $100$ needles), and determine if $\\hat{\\pi}_n$ is an overestimate or underestimate for $\\pi$.\n",
    "\n",
    "\n",
    "---\n"
   ]
  },
  {
   "cell_type": "markdown",
   "metadata": {
    "id": "uFSg1RRwTUfb"
   },
   "source": [
    "### Ans."
   ]
  },
  {
   "cell_type": "code",
   "execution_count": 185,
   "metadata": {
    "id": "oWMHDHynTTuD"
   },
   "outputs": [
    {
     "data": {
      "text/plain": [
       "0.01135577755538586"
      ]
     },
     "execution_count": 185,
     "metadata": {},
     "output_type": "execute_result"
    }
   ],
   "source": [
    "n_b = 100\n",
    "replications_b = 1000\n",
    "pi_estimates_investigate = []\n",
    "for _ in range(replications_b):\n",
    "    sim_data = buffon(n_b)\n",
    "    N_cross = sum([data[2] for data in sim_data])\n",
    "    pi_hat_n = 2 * n_b / N_cross if N_cross != 0 else np.inf\n",
    "    pi_estimates_investigate.append(pi_hat_n)\n",
    "\n",
    "\n",
    "estimate_pi_b = np.mean(pi_estimates_investigate)\n",
    "estimate_pi_b - np.pi"
   ]
  },
  {
   "cell_type": "markdown",
   "metadata": {},
   "source": [
    "Since the difference between estimate value and true value is greater than 0, $\\hat{\\pi}_n$ is an overestimate."
   ]
  },
  {
   "cell_type": "markdown",
   "metadata": {},
   "source": [
    "Reference: Drafted by Chatgpt"
   ]
  },
  {
   "cell_type": "markdown",
   "metadata": {
    "id": "HU-lR4mMTe7Z"
   },
   "source": [
    "**(c)** Can you mathematically justify your observation from part (b)?"
   ]
  },
  {
   "cell_type": "markdown",
   "metadata": {
    "id": "YgNPNKKkTl8p"
   },
   "source": [
    "### Ans.\n",
    "\n",
    "Since we choose to have small sample, there is possibly that the random placements aren't uniformly distributed. Therefore, if there are less needles cross the lines and that will lead to an overestimate. Also, based on the formula of $\\hat{\\pi}_n = \\frac{2n}{N_{cross}}$, since we mentioned before that the smaller sample size will lead to fewer needles cross the lines. It implies $N_{cross}$ is much smaller than expected. Therefore, $\\hat{\\pi}_n$ will be greater."
   ]
  },
  {
   "cell_type": "markdown",
   "metadata": {},
   "source": [
    "Reference: Drafted by Chatgpt"
   ]
  },
  {
   "cell_type": "markdown",
   "metadata": {
    "id": "RIFfuf3eTn1j"
   },
   "source": [
    "**(d)** Note however that you can still use Buffon's experiment to get an estimate with $95$\\% confidence intervals for $\\mathbb{E}[\\frac{N_{\\text{cross}}}{n}]$. Using this, can you get a $95$\\% confidence interval for $\\pi$? (Note: this need not be symmetric about $\\pi$)."
   ]
  },
  {
   "cell_type": "markdown",
   "metadata": {
    "id": "nvNTxd05UY-T"
   },
   "source": [
    "### Ans.\n",
    "Yes, the 95% confidence interval for $\\pi$ can be done by following code."
   ]
  },
  {
   "cell_type": "code",
   "execution_count": 186,
   "metadata": {},
   "outputs": [
    {
     "data": {
      "text/plain": [
       "(3.1156876457044014, 3.1451133459296687)"
      ]
     },
     "execution_count": 186,
     "metadata": {},
     "output_type": "execute_result"
    }
   ],
   "source": [
    "n_c = 100\n",
    "replications_c = 1000  # Large number of replications to investigate bias\n",
    "\n",
    "# Lists to store results for the investigation\n",
    "pi_estimates_investigate = []\n",
    "\n",
    "# For each replication, perform the Buffon needle experiment for n_investigate\n",
    "ratio = []\n",
    "for _ in range(replications_c):\n",
    "    sim_data = buffon(n_c)\n",
    "    N_cross = sum([data[2] for data in sim_data])\n",
    "    r = N_cross/n_c\n",
    "    ratio.append(r)\n",
    "mean_ratio = np.mean(ratio)\n",
    "std_ratio = np.std(ratio,ddof=1)\n",
    "lower_bound = (mean_ratio-1.96*std_ratio/np.sqrt(replications_c))\n",
    "upper_bound = (mean_ratio+1.96*std_ratio/np.sqrt(replications_c))\n",
    "\n",
    "lower_bound_pi = 2/upper_bound\n",
    "upper_bound_pi = 2/lower_bound\n",
    "\n",
    "lower_bound_pi,upper_bound_pi\n"
   ]
  },
  {
   "cell_type": "markdown",
   "metadata": {},
   "source": [
    "Reference: Drafted by Chatgpt"
   ]
  },
  {
   "cell_type": "markdown",
   "metadata": {
    "id": "1YzsdFSPUatj"
   },
   "source": [
    "**(e) (Optional for everyone!)** Try to convince yourself (by linearity of expectation), that\n",
    "\n",
    "(i) If you randomly throw $n$ matches of length $\\ell$ and let $N^{\\ell}_{\\text{cross}}$ be a count of how many times these cross the lines, then $\\frac{\\mathbb{E}[N^{\\ell}_{\\text{cross}}]}{\\ell} = $ constant (in other words, the expected number of crossings is proportional to $\\ell$). Note: if $\\ell>1$, each match may cross multiple lines.\n",
    "\n",
    "(ii) The above result remains true if you throw *any* line segment (with any shape) of length $\\ell$. Using this, can you see an easy way to compute $\\mathbb{E}[N^{1}_{\\text{cross}}]$ (i.e., the probability of a match crossing a line in the original experiment)?"
   ]
  },
  {
   "cell_type": "markdown",
   "metadata": {
    "id": "4McZkHwYf33z"
   },
   "source": [
    "## Question 4: Overbooking (25 points)\n",
    "\n",
    "A website called Tixmaster is in charge of selling tickets for an upcoming Taylor Swift concert in Ithaca. The concert will take place in the State Theater, which has an official capacity of $1500$ seats. You believe however that Tixmaster has sold $1600$ tickets (representatives of the company, when contacted, denied this$\\ldots$).\n",
    "\n",
    "The show starts at 7pm, and if a ticket holder hasn't shown up by that time, then they are not allowed to enter anymore so as to not disturb the other attendees. From experience, you believe that there is a 95\\% chance that someone who has bought a ticket actually shows up by 7pm. and that people show up (or not) independently from one another."
   ]
  },
  {
   "cell_type": "markdown",
   "metadata": {
    "id": "Z3BowWcMz8Iw"
   },
   "source": [
    "\n",
    "\n",
    "---\n",
    "\n",
    "**(a)** You wait inside the State Theater and count the number of people entering. What is the probability that you will be able to prove that Tixmaster is overbooking? (You can do this with or without simulation)\n",
    "\n",
    "\n",
    "---"
   ]
  },
  {
   "cell_type": "markdown",
   "metadata": {
    "id": "DmaSH5iZ0zH-"
   },
   "source": [
    "### Ans.\n",
    "We can use binomial distribution to model this problem. Each person shows up before 7pm is 0.95 and we want to calculate the probability that more than 1500 people show up before 7pm. \\\n",
    "P(X > 1500) = 1 - P(X ≤ 1500)\n",
    "Since calculating P(X ≤ 1500) is computationally intensive, we use normal distribution to estimate this (since np >5 and each trial is independent he binomial can be approximated by the normal distribution with mean  $\\mu=𝑛𝑝$ and standard deviation  $\\sigma=\\sqrt{𝑛𝑝𝑞}$\\\n",
    "$\\mu = n * p = 1600 * 0.95 = 1520$\\\n",
    "$\\sigma = \\sqrt{(n * p * (1-p))} = \\sqrt{1600 * 0.95 * 0.05} ≈ 18.44$\\\n",
    "$P(X > 1500) = 1 - P(X ≤ 1500)  ≈ 1 - P(Z ≤ (1500 - \\mu) / \\sigma)$ (where Z is a standard normal random variable)\n",
    "\n",
    "Using standard normal tables, we find the z-score for $(1500 - 1520) / 18.44 ≈ -1.08$\\\n",
    "$P(Z ≤ -1.08) ≈ 0.139 \\,\\,\\,So, P(X > 1500) ≈ 1 - 0.139 ≈ 0.861$\\\n",
    "The probability of more than 1500 people showing up for the concert is approximately 0.861. This means that there is a high probability that Tixmaster is overbooking because it's very likely more than 1500 people show up to see the concert.\n",
    "$$ $$\n",
    "$$ $$\n",
    "$$ $$\n",
    "$$ $$"
   ]
  },
  {
   "cell_type": "markdown",
   "metadata": {
    "id": "BS10dJ10f33z"
   },
   "source": [
    "**(b)** You manage to catch Tixmaster overbooking this time, and to prevent it in future, you decide to impose a fine to try and disincentivize overbooking. You know Tixmaster earns \\$100$ in profit for every ticket sold (whether the holder shows up or not). You again have an agent counting how many people show up to the concert by $7$pm (you can not see how many are late or no-shows), and can charge Tixmaster a fine of \\$500 for each person exceeding the capacity.\n",
    "\n",
    "Use a simulation to estimate how many extra tickets (over 1500) Tixmaster will sell, if they are trying to maximize their expected profit (after paying any fines)."
   ]
  },
  {
   "cell_type": "markdown",
   "metadata": {
    "id": "mNoymDoVOMiB"
   },
   "source": [
    "### Ans."
   ]
  },
  {
   "cell_type": "code",
   "execution_count": 187,
   "metadata": {},
   "outputs": [
    {
     "name": "stdout",
     "output_type": "stream",
     "text": [
      "Optimal overbooking level from simulation: 71\n"
     ]
    }
   ],
   "source": [
    "\n",
    "import random\n",
    "# Constants\n",
    "num_simulations = 1000  # Number of simulations to run\n",
    "\n",
    "# Function to simulate people showup and calculate profit\n",
    "def simulate_sales(overbooking):\n",
    "    showup = 0\n",
    "    for _ in range(1500 + overbooking):\n",
    "        if random.random() <= 0.95:\n",
    "            showup += 1\n",
    "    if showup >= 1500:\n",
    "        fines = (showup - 1500) * 500\n",
    "        total_profit = (1500 + overbooking) * 100 - fines\n",
    "    else:\n",
    "        total_profit = (1500 + overbooking) * 100\n",
    "    return total_profit\n",
    "\n",
    "optimal_overbooking = 0  # Initialize optimal overbooking level\n",
    "max_expected_profit = -float('inf')  # Initialize maximum expected profit\n",
    "\n",
    "\n",
    "for overbooking in range(0, 301):  # Try overbooking levels from 0 to 300\n",
    "    expected_profit_sum = 0\n",
    "    for _ in range(num_simulations):\n",
    "        expected_profit_sum += simulate_sales(overbooking)\n",
    "    average_expected_profit = expected_profit_sum / num_simulations\n",
    "    #print(average_expected_profit)\n",
    "    \n",
    "    if average_expected_profit > max_expected_profit:\n",
    "        max_expected_profit = average_expected_profit\n",
    "        optimal_overbooking = overbooking\n",
    "\n",
    "print(\"Optimal overbooking level from simulation:\", optimal_overbooking)\n"
   ]
  },
  {
   "cell_type": "markdown",
   "metadata": {},
   "source": [
    "Reference: The code was drafted by Chatgpt"
   ]
  },
  {
   "cell_type": "markdown",
   "metadata": {
    "id": "8c1LKlyBf33z"
   },
   "source": [
    "\n",
    "\n",
    "---\n",
    "\n",
    "\n",
    "\n",
    "**(c) (For 5580/5581 students; optional for 4580)** Finally, you decide to stamp down on any overbooking by setting a large enough penalty so that Tixmaster does not find it profitable to sell even one extra ticket. Use simulation to find a fee $F$ charged per person over $1500$ admitted to the theater, such that it stops overbooking. (Ideally, try to propose as small an $F$ as possible, so that the city government feels it is practical to implement).\n",
    "\n",
    "*(Note: This sort of a problem where you want to optimize a parameter via simulation is difficult. We will see some ways to do this more efficiently later in class; however, for this problem, it is easy to do a search over potential values of $F$ to find the first time that overbooking by even $1$ ticket becomes unprofitable.)*\n",
    "\n",
    "\n",
    "---\n",
    "\n"
   ]
  },
  {
   "cell_type": "markdown",
   "metadata": {
    "id": "rN21bzkORLVg"
   },
   "source": [
    "### Ans.\n",
    "When sold one extra ticket, the probability that a fine occurs is $0.95^{1501}$ where everyone who bought the ticket shows up. And we want to apply a fine so that the expected value of profit is less than 150000 (the profit when they chose not to sell extra tickets) when selling 1501 tickets.\\\n",
    "Let F be the fine \\\n",
    "$E(profit) = E(no\\, fine\\, occurs) + E(fine\\, occurs)= (1-0.95^{1501})*1501*100 + 0.95^{1501}*(1501*100-F) < 150000$\\\n",
    "Therefore we can calculate F is at least"
   ]
  },
  {
   "cell_type": "code",
   "execution_count": 188,
   "metadata": {},
   "outputs": [
    {
     "name": "stdout",
     "output_type": "stream",
     "text": [
      "2.734440397040814e+35\n"
     ]
    }
   ],
   "source": [
    "F = ((1-0.95**1501)*150100+(0.95**1501)*150100-150000)/0.95**1501\n",
    "print(F)"
   ]
  },
  {
   "cell_type": "markdown",
   "metadata": {
    "id": "2M5NJnUCf33z"
   },
   "source": [
    "Therefore we think that F = 2.73444039*10^35 can prevent overbooking."
   ]
  },
  {
   "cell_type": "code",
   "execution_count": null,
   "metadata": {},
   "outputs": [],
   "source": []
  }
 ],
 "metadata": {
  "colab": {
   "provenance": []
  },
  "kernelspec": {
   "display_name": "Python 3 (ipykernel)",
   "language": "python",
   "name": "python3"
  },
  "language_info": {
   "codemirror_mode": {
    "name": "ipython",
    "version": 3
   },
   "file_extension": ".py",
   "mimetype": "text/x-python",
   "name": "python",
   "nbconvert_exporter": "python",
   "pygments_lexer": "ipython3",
   "version": "3.9.7"
  }
 },
 "nbformat": 4,
 "nbformat_minor": 1
}
