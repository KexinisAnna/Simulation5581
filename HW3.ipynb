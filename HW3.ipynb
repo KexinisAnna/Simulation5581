{
 "cells": [
  {
   "cell_type": "markdown",
   "metadata": {
    "id": "KdHI8a1S9iUn"
   },
   "source": [
    "# ORIE 4580/5580/5581 Assignment 3\n",
    "\n",
    "#### Students: Junliang Wu (jw2727) and Kexin Wang (kw677)\n",
    "\n",
    "### Github link: [example Github link](https://github.com/SidBanerjee/ORIE4580-Simulation/blob/main/Notebooks/Unit0-Intro_Demos.ipynb)\n"
   ]
  },
  {
   "cell_type": "markdown",
   "metadata": {
    "id": "SWIW16cwI0bB"
   },
   "source": [
    "### Instructions\n",
    "\n",
    "\n",
    "* Due Friday September 22, at 11.59am on Gradescope.\n",
    "* Assignment .ipynb files available for download on [Canvas](https://canvas.cornell.edu/courses/56826#:~:text=Assignments-,Assignments,-Assignments%20Module%20publish). Do all your work in provided notebook (text answers typeset in markdown; show all required code and generate plots inline), and then generate and submit a pdf.\n",
    "* Ideally do assignments in groups of 2, and submit a single pdf with both names\n",
    "* Please show your work and clearly mark your answers.\n",
    "* You can use any code fragments given in class, found online (for example, on StackOverflow), or generated via Bard or ChatGPT (you are encouraged to use these for first drafts) **with proper referencing**. You can also discuss with others (again, please reference them if you do so); but you must write your final answers on your own as a team.\n",
    "\n",
    "\n",
    "\n",
    "### Suggested reading\n",
    "\n",
    "Chapters 7 (you can skim through this), and chapters 8 and 9 of [Introduction to Probability](https://chance.dartmouth.edu/teaching_aids/books_articles/probability_book/book.html) by Grinstead and Snell.\n",
    "\n",
    "Chapter 3 and chapter 4 (up to section 4.5) of [Simulation by Ross](https://catalog.library.cornell.edu/catalog/12745977)."
   ]
  },
  {
   "cell_type": "code",
   "execution_count": 1,
   "metadata": {
    "id": "upFYbOmHI4Uv"
   },
   "outputs": [],
   "source": [
    "#importing necessary packages\n",
    "import numpy as np\n",
    "import matplotlib.pyplot as plt\n",
    "import scipy.stats\n",
    "%matplotlib inline"
   ]
  },
  {
   "cell_type": "markdown",
   "metadata": {
    "id": "lAy475sN9iUs"
   },
   "source": [
    "___\n",
    "___\n",
    "\n",
    "## Question 1: Combining LCGs (20 points)\n",
    "\n",
    "In order to avoid biases, simulations should not use anywhere near the full period of an LCG (otherwise, the random sequence repeats\\ldots). For example, a typical traffic simulator may have $10,000$ vehicles, each experiencing thousands of random disturbances, thus needing around $10^7$ random samples per replication -- for this, an LCG using $m=2^{31}-1\\approx 2\\times 10^9$ is insufficient, as after $100$ replications the sequences get correlated.\n",
    "\n",
    "One method to combine multiple LCGs to obtain a generator with a longer period is to add a smaller period LCG to it. For example, suppose we have two generators $X_{n+1}  =  (a_1 X_n) \\mbox{ mod } m_1$ and $Y_{n+1}  =  (a_2 Y_n) \\mbox{ mod } m_2$, with $m_1>m_2$. We can derive a combined generator by setting $Z_n  =  (X_n + Y_n) \\mbox{ mod } m_1$. If properly designed, the resulting period can be on the order of $m_1m_2$. We will now study a small example to see how this works.\n"
   ]
  },
  {
   "cell_type": "markdown",
   "metadata": {
    "id": "-geWMEJp9iUt"
   },
   "source": [
    "___\n",
    "**(a)** Consider two LCGs, $x_{n+1} = (5 x_n) \\mod 16$ and $y_{n+1} = (2 y_n) \\mod 7$. Starting both with seed $x_0 = y_0 = 1$, plot the sequences $x_n, y_n$ using the clock visualization introduced in class (separate plot for each sequence; you can use and modify the code in Demo-PRNGs.ipynb on Canvas).\n",
    "___"
   ]
  },
  {
   "cell_type": "code",
   "execution_count": 4,
   "metadata": {
    "id": "5jsoc-t6D-Q7"
   },
   "outputs": [],
   "source": [
    "# Functions to visualize LCG sequence on clock (see demo notebook)\n",
    "def plot_clock_face(m, fig, annotate=False):\n",
    "    \"\"\"\n",
    "    Plot points on a unit circle representing the LCG sequence on a clock face.\n",
    "\n",
    "    Parameters:\n",
    "    m (int): The modulus value for the LCG sequence.\n",
    "    fig (matplotlib.figure.Figure): The figure object to draw on.\n",
    "    annotate (bool): Whether to annotate points with their index.\n",
    "\n",
    "    Returns:\n",
    "    None\n",
    "    \"\"\"\n",
    "    # Plot m points on the unit circle\n",
    "    for i in range(m):\n",
    "        theta = 2.0 * np.pi * i / m\n",
    "        plt.plot(np.sin(theta), np.cos(theta), 'rs', markersize = 10)\n",
    "        if annotate:\n",
    "            plt.annotate(str(i), (np.pi/2 - theta, 1.05), xycoords='polar')\n",
    "\n",
    "\n",
    "def plot_clock_path(m, x, fig, color='y'):\n",
    "    \"\"\"\n",
    "    Plot the path of an LCG sequence on a clock face.\n",
    "\n",
    "    Parameters:\n",
    "    m (int): The modulus value for the LCG sequence.\n",
    "    x (numpy.ndarray): The LCG sequence.\n",
    "    fig (matplotlib.figure.Figure): The figure object to draw on.\n",
    "    color (str): The color for the path.\n",
    "\n",
    "    Returns:\n",
    "    None\n",
    "    \"\"\"\n",
    "    # Plot the seed node\n",
    "    theta_0 = 2.0 * np.pi * (x[0] * (m + 1) - 1) / m\n",
    "    plt.plot(np.sin(theta_0), np.cos(theta_0), 'gs', markersize = 10)\n",
    "\n",
    "    # Plot the path of the LCG sequence\n",
    "    for i in range(len(x) - 1):\n",
    "        theta_start = 2.0 * np.pi * (x[i] * (m + 1) - 1) / m\n",
    "        theta_end = 2.0 * np.pi * (x[i + 1] * (m + 1) - 1) / m\n",
    "        x_start = np.sin(theta_start)\n",
    "        y_start = np.cos(theta_start)\n",
    "        del_x = np.sin(theta_end) - np.sin(theta_start)\n",
    "        del_y = np.cos(theta_end) - np.cos(theta_start)\n",
    "        if abs(del_x) > 0 or abs(del_y) > 0:\n",
    "            plt.arrow(x_start, y_start, del_x, del_y,\n",
    "                      length_includes_head=True, head_width=0.05, head_length=0.1, fc=color, ec=color)\n"
   ]
  },
  {
   "cell_type": "code",
   "execution_count": 3,
   "metadata": {
    "id": "GRvFbLtFEC16"
   },
   "outputs": [],
   "source": [
    "# Function to generate pseudorandom sequence using LCG\n",
    "# Set default parameters to glibc specifications (see demo notebook)\n",
    "def LCG(n, m, a, c=0, seed=1):\n",
    "    \"\"\"\n",
    "    Generate a pseudorandom sequence using a Linear Congruential Generator (LCG).\n",
    "\n",
    "    Parameters:\n",
    "    n (int): The number of pseudorandom numbers to generate.\n",
    "    m (int): The modulus value (default is 2^31-1, following glibc specifications).\n",
    "    a (int): The multiplier value (default is 1103515245, following glibc specifications).\n",
    "    c (int): The increment value (default is 12345, following glibc specifications).\n",
    "    seed (int): The initial seed value (default is 1).\n",
    "\n",
    "    Returns:\n",
    "    numpy.ndarray: An array of pseudorandom numbers in the range [0, 1).\n",
    "    \"\"\"\n",
    "    # Initialize an array to store the generated pseudorandom numbers\n",
    "    output = np.zeros(n)\n",
    "\n",
    "    x = seed\n",
    "    for i in range(n):\n",
    "        # Calculate the pseudorandom number and normalize it to [0, 1)\n",
    "        output[i] = (x + 1.0) / (m + 1.0)\n",
    "\n",
    "        # Update the LCG state using the specified parameters\n",
    "        x = (a * x + c) % m\n",
    "\n",
    "    return output"
   ]
  },
  {
   "cell_type": "code",
   "execution_count": 88,
   "metadata": {
    "id": "b2hOTeOyEEkI",
    "scrolled": true
   },
   "outputs": [
    {
     "data": {
      "image/png": "[encoded data removed]",
      "text/plain": [
       "<Figure size 360x360 with 1 Axes>"
      ]
     },
     "metadata": {
      "needs_background": "light"
     },
     "output_type": "display_data"
    }
   ],
   "source": [
    "# Ans\n",
    "fig = plt.figure(figsize=(5,5))\n",
    "x = LCG(n=17,m=16,a=5,c=0,seed =1)\n",
    "#print(x)\n",
    "plot_clock_face(16,fig,annotate = True)\n",
    "plot_clock_path(16,x,fig)\n",
    "#plt.axis('equal')\n",
    "plt.axis('off')\n",
    "plt.title('Sequence of Xn with seed 1')\n",
    "plt.show()"
   ]
  },
  {
   "cell_type": "code",
   "execution_count": 119,
   "metadata": {},
   "outputs": [
    {
     "data": {
      "image/png": "[encoded data removed]",
      "text/plain": [
       "<Figure size 360x360 with 1 Axes>"
      ]
     },
     "metadata": {
      "needs_background": "light"
     },
     "output_type": "display_data"
    }
   ],
   "source": [
    "fig = plt.figure(figsize=(5,5))\n",
    "x = LCG(n=8,m=7,a=2, c=0, seed =1)\n",
    "plot_clock_face(7, fig, annotate =True)\n",
    "plot_clock_path(7, x,fig)\n",
    "plt.axis('equal')\n",
    "plt.axis('off')\n",
    "plt.title('Sequence of Yn with seed 1')\n",
    "plt.show()"
   ]
  },
  {
   "cell_type": "markdown",
   "metadata": {
    "id": "FDfX7mQz9iUv"
   },
   "source": [
    "___\n",
    "**(b)** Next, define a combined LCG as $z_{n} = (x_n+y_n) \\mod 16$. Starting both the base LCGs with seed $x_0 = y_0 = 1$, plot the sequence $z_n$ using the clock visualization given in class.\n",
    "___"
   ]
  },
  {
   "cell_type": "code",
   "execution_count": 105,
   "metadata": {
    "id": "pLwpyLwZEIHk"
   },
   "outputs": [],
   "source": [
    "def combined_LCG(n = 16,a1=5, a2=2, c1=0, c2=0,m1=16, m2=7,m=16, c=0, seed1=1, seed2=1):\n",
    "    \"\"\"\n",
    "    Generate a pseudorandom sequence using combined two Linear Congruential Generators (LCG).\n",
    "    \n",
    "    Returns:\n",
    "    numpy.ndarray: An array of pseudorandom numbers in the range [0, 1).\n",
    "    \"\"\"\n",
    "    # Initialize an array to store the generated pseudorandom numbers\n",
    "    \n",
    "    output = np.zeros(n)\n",
    "\n",
    "    x = seed1\n",
    "    y = seed2\n",
    "    for i in range(n):\n",
    "        # Calculate the pseudorandom number and normalize it to [0, 1)\n",
    "        output[i] = (x + y + 1.0) / (m + 1.0)\n",
    "        x = (a1 * x + c1) % m1\n",
    "        y = (a2 * y + c2) % m2\n",
    "        # Update the LCG state using the specified parameters\n",
    "        z = (x + y) % m\n",
    "    return output\n"
   ]
  },
  {
   "cell_type": "code",
   "execution_count": 109,
   "metadata": {},
   "outputs": [
    {
     "data": {
      "image/png": "[encoded data removed]",
      "text/plain": [
       "<Figure size 432x288 with 1 Axes>"
      ]
     },
     "metadata": {
      "needs_background": "light"
     },
     "output_type": "display_data"
    }
   ],
   "source": [
    "x=combined_LCG(n = 16,a1=5, a2=2, c1=0, c2=0,m1=16, m2=7,m=16, c=0)\n",
    "plot_clock_face(16,fig,annotate = True)\n",
    "plot_clock_path(16,x,fig)\n",
    "plt.axis('equal')\n",
    "plt.axis('off')\n",
    "plt.title('Sequence of Zn')\n",
    "plt.show()"
   ]
  },
  {
   "cell_type": "markdown",
   "metadata": {
    "id": "W7FAnv8z9iUx"
   },
   "source": [
    "___\n",
    "**(c)** What are the periods of the pseudo-random sequences $x_n, y_n$ and $z_n$?\n",
    "___"
   ]
  },
  {
   "cell_type": "markdown",
   "metadata": {
    "id": "XAWLfsGGMO7X"
   },
   "source": [
    "### Ans.\n",
    "Based on the clock face we had in part(a) and part(b), we can see that the period of Xn is 4, the period of Yn is 3, and the period of Zn is 12. We determine period by after how many operations the arrow goes back to the starting point(green point in three cases)."
   ]
  },
  {
   "cell_type": "markdown",
   "metadata": {
    "id": "wmL74RyC9iUz"
   },
   "source": [
    "___\n",
    "___\n",
    "## Question 2: inverting cdfs (25 pts)\n",
    "\n",
    "In class, we defined $F^{-1}(y)$ for a continuous increasing cdf $F(x)$ as the unique $x$ such that $F(x) = y$ (for $y\\in[0,1]$). More generally, for any cdf $F$ we can use the inversion method based on its generalized inverse or *pseudoinverse*:\n",
    "\t$$F^{-1}(y) = \\inf\\{x|F(x)\\geq y\\}$$\n",
    "\t(where $\\inf$ denotes the \\href{https://en.wikipedia.org/wiki/Infimum_and_supremum}{infimum}; if you have not seen this before, treat it as minimum).\n"
   ]
  },
  {
   "cell_type": "markdown",
   "metadata": {
    "id": "k8gt9TWM9iU0"
   },
   "source": [
    "___\n",
    "**(a)** Find the pseudoinverse $F^{-1}(y)$ for the following mixed (discrete/continuous) cdf\n",
    "\t$$F(x)=\n",
    "\t\\begin{cases}\n",
    "\t0 & \\mbox{for $x < 0$}\\\\\n",
    "\tx & \\mbox{for $0 \\leq x < \\frac{1}{2}$}, \\\\\n",
    "\t\\frac{1}{2} & \\mbox{for $\\frac{1}{2}\\leq x < 1$}, \\\\\n",
    "\t1 & \\mbox{for $x =1$}\n",
    "\t \\end{cases}$$\n",
    "___"
   ]
  },
  {
   "cell_type": "code",
   "execution_count": 37,
   "metadata": {},
   "outputs": [
    {
     "data": {
      "image/png": "[encoded data removed]",
      "text/plain": [
       "<Figure size 432x288 with 1 Axes>"
      ]
     },
     "metadata": {
      "needs_background": "light"
     },
     "output_type": "display_data"
    }
   ],
   "source": [
    "def F(x):\n",
    "    if x < 0:\n",
    "        return 0\n",
    "    elif 0 <= x < 1/2:\n",
    "        return x\n",
    "    elif 1/2 <= x < 1:\n",
    "        return 1/2\n",
    "    else:\n",
    "        return 1\n",
    "\n",
    "# Create an array of x values\n",
    "x = np.linspace(-1, 2, 500)  # Adjust the range as needed\n",
    "\n",
    "# Calculate the corresponding y values using the piecewise function\n",
    "y = [F(xi) for xi in x]\n",
    "\n",
    "# Create the plot\n",
    "plt.plot(x, y, label='F(x)')\n",
    "\n",
    "# Add labels and legend\n",
    "plt.xlabel('x')\n",
    "plt.ylabel('F(x)')\n",
    "plt.legend()\n",
    "plt.xlim(-0.2, 1.2)\n",
    "plt.ylim(-0.1, 1.2)\n",
    "# Show the plot\n",
    "plt.grid(True)\n",
    "plt.show()"
   ]
  },
  {
   "cell_type": "markdown",
   "metadata": {
    "id": "h4Vtj9TBMr6A"
   },
   "source": [
    "### Ans.\n"
   ]
  },
  {
   "cell_type": "markdown",
   "metadata": {},
   "source": [
    "$F^{-1}(y)=\n",
    "\\begin{cases}\n",
    "    0 & \\text{if y = 0} \\\\\n",
    "    y & \\text{if 0<y}\\leq \\frac{1}{2} \\\\\n",
    "    \\frac{1}{2} & \\text{if} \\frac{1}{2} \\le y \\leq 1\\\\\n",
    "    1 & \\text{if y =1}\n",
    "\\end{cases}\n",
    "$"
   ]
  },
  {
   "cell_type": "markdown",
   "metadata": {
    "id": "z5IrvAkx9iU1"
   },
   "source": [
    "___\n",
    "**(b)** Use the above definition to get an inversion algorithm for the $Geometric(p)$ distribution (with pmf $p(k) = p(1-p)^{k-1}\\,\\forall\\,k\\in\\{1,2,3,\\ldots\\}$). Implement this, and generate and plot the histogram of 1000 samples from a $Geometric(0.42)$ distribution.\n",
    "(For this, it may be useful for you to first understand how the [scipy.stats](https://docs.scipy.org/doc/scipy/reference/stats.html) library works, and in particular, how it provides methods to compute various statistics for many different random variables, including the [geometric r.v.](https://docs.scipy.org/doc/scipy/reference/generated/scipy.stats.geom.html#scipy.stats.geom))\n",
    "___"
   ]
  },
  {
   "cell_type": "code",
   "execution_count": 134,
   "metadata": {},
   "outputs": [
    {
     "data": {
      "image/png": "[encoded data removed]",
      "text/plain": [
       "<Figure size 720x360 with 1 Axes>"
      ]
     },
     "metadata": {
      "needs_background": "light"
     },
     "output_type": "display_data"
    }
   ],
   "source": [
    "\n",
    "# Define the probability parameter (p) for the geometric distribution\n",
    "p = 0.42\n",
    "\n",
    "# Create an array of x values (number of trials)\n",
    "x = np.arange(0, 10,1)  # Adjust the range as needed\n",
    "\n",
    "# Calculate the CDF values for each x\n",
    "cdf = 1 - (1 - p) ** (x )  # Adding 1 to x to make it inclusive\n",
    "fig = plt.figure(figsize=(10,5))\n",
    "# Create the step plot for the CDF with discontinuity\n",
    "plt.plot(x, cdf, drawstyle='steps-mid',marker='o', linestyle='--', color='b', label=f'CDF (p={p})')\n",
    "\n",
    "# Add labels and legend\n",
    "plt.xlabel('Number of Trials (x)')\n",
    "plt.ylabel('CDF')\n",
    "plt.title('CDF of Geometric Distribution')\n",
    "plt.legend()\n",
    "# Show the plot\n",
    "plt.xlim(0, 10)\n",
    "plt.ylim(0, 1.1)\n",
    "plt.grid(True)\n",
    "plt.show()\n"
   ]
  },
  {
   "cell_type": "code",
   "execution_count": 60,
   "metadata": {
    "id": "JQIulHgEJrwz"
   },
   "outputs": [
    {
     "data": {
      "image/png": "[encoded data removed]",
      "text/plain": [
       "<Figure size 432x288 with 1 Axes>"
      ]
     },
     "metadata": {
      "needs_background": "light"
     },
     "output_type": "display_data"
    }
   ],
   "source": [
    "import numpy as np\n",
    "import matplotlib.pyplot as plt\n",
    "\n",
    "# Define the parameter for the geometric distribution\n",
    "p = 0.42\n",
    "\n",
    "# Number of samples to generate\n",
    "num_samples = 1000\n",
    "\n",
    "# Generate random samples from a uniform distribution between 0 and 1\n",
    "uniform_samples = np.random.uniform(0, 1, num_samples)\n",
    "\n",
    "# Calculate the inverse transform using the geometric CDF\n",
    "geometric_samples = np.floor(np.log(1 - uniform_samples) / np.log(1 - p))\n",
    "\n",
    "# Plot the histogram of generated samples\n",
    "plt.hist(geometric_samples, bins=np.arange(1, max(geometric_samples) + 1) , density=True, alpha=0.75, color='b')\n",
    "plt.xlabel('k')\n",
    "plt.ylabel('Probability')\n",
    "plt.title('Histogram of 1000 Samples from Geometric(0.42) Distribution using Inversion Method')\n",
    "plt.grid(True)\n",
    "plt.show()"
   ]
  },
  {
   "cell_type": "code",
   "execution_count": 62,
   "metadata": {},
   "outputs": [
    {
     "data": {
      "image/png": "[encoded data removed]",
      "text/plain": [
       "<Figure size 432x288 with 1 Axes>"
      ]
     },
     "metadata": {
      "needs_background": "light"
     },
     "output_type": "display_data"
    }
   ],
   "source": [
    "p = 0.42\n",
    "from scipy.stats import geom\n",
    "\n",
    "# Number of samples to generate\n",
    "num_samples = 1000\n",
    "\n",
    "# Generate random samples from the geometric distribution using scipy.stats\n",
    "samples = geom(p).rvs(size=num_samples)\n",
    "\n",
    "# Plot the histogram of generated samples\n",
    "plt.hist(samples, bins=np.arange(1, max(samples) + 1) - 0.5, density=True, alpha=0.75, color='b')\n",
    "plt.xlabel('k')\n",
    "plt.ylabel('Probability')\n",
    "plt.title('Histogram of 1000 Samples from Geometric(0.42) Distribution using scipy.stats')\n",
    "plt.grid(True)\n",
    "plt.show()"
   ]
  },
  {
   "cell_type": "markdown",
   "metadata": {
    "id": "TRn55xOT9iU3"
   },
   "source": [
    "___\n",
    "**(c)** The p.d.f. of the random variable $X$ is given by\n",
    "\t$$\n",
    "\tf(x) =\n",
    "\t\\begin{cases}\n",
    "\t\te^{x-2} & \\text{for }0 \\leq x \\leq 2, \\\\\n",
    "\t\te^{-x} & \\text{for }x > 2, \\\\\n",
    "\t\t0 & \\text{otherwise,}\n",
    "\t\\end{cases}\n",
    "\t$$\n",
    "\tDescribe and implement an inversion algorithm to generate samples of $X$. Generate 1,000 samples and plot a histogram. Compare the histogram and the p.d.f.\n"
   ]
  },
  {
   "cell_type": "markdown",
   "metadata": {
    "id": "dNmGPdu8OaiK"
   },
   "source": [
    "___\n",
    "\n",
    "### Ans."
   ]
  },
  {
   "cell_type": "markdown",
   "metadata": {},
   "source": [
    "$$\n",
    "\tF(x) =\n",
    "\t\\begin{cases}\n",
    "\t\te^{x-2}-e^{-2} & \\text{for }0 \\leq x \\leq 2, \\\\\n",
    "\t\t1-e^{-x} & \\text{for }x > 2, \\\\\n",
    "\t\t0 & \\text{otherwise,}\n",
    "\t\\end{cases}\n",
    "\t$$"
   ]
  },
  {
   "cell_type": "markdown",
   "metadata": {},
   "source": [
    "$$\n",
    "\tF^{-1}(u) =\n",
    "\t\\begin{cases}\n",
    "\t\tln(u+e^{-2})+2 & \\text{for }0 \\leq u < 1-e^{-2}, \\\\\n",
    "\t\t-ln(1-u) & \\text{for } 1-e^{-2} \\leq u \\leq 1 \\\\\n",
    "\t\t0 & \\text{otherwise,}\n",
    "\t\\end{cases}\n",
    "\t$$"
   ]
  },
  {
   "cell_type": "markdown",
   "metadata": {},
   "source": [
    "* First generate 1000 samples from uniform distribution (call it u) and plug into the inverse function of CDF to generate samples of X\n",
    "* If u is less than $1-e^{-2}$ then $x =ln(u + e^{-2})$\n",
    "* If u is between $1-e^{-2}$ and 1 then $x = -ln(1-u)$\n"
   ]
  },
  {
   "cell_type": "code",
   "execution_count": 29,
   "metadata": {
    "id": "2bF1VUkGJEpI"
   },
   "outputs": [
    {
     "data": {
      "image/png": "[encoded data removed]",
      "text/plain": [
       "<Figure size 432x288 with 1 Axes>"
      ]
     },
     "metadata": {
      "needs_background": "light"
     },
     "output_type": "display_data"
    }
   ],
   "source": [
    "\n",
    "# Number of samples to generate\n",
    "num_samples = 1000\n",
    "\n",
    "# Generate random samples from a uniform distribution between 0 and 1\n",
    "uniform_samples = np.random.uniform(0, 1, num_samples)\n",
    "\n",
    "# Initialize an empty list to store the generated values of x\n",
    "x_samples = []\n",
    "\n",
    "# Define the inverse transform function for x\n",
    "for u in uniform_samples:\n",
    "    if u < 1 - np.exp(-2):\n",
    "        x = np.log(u + np.exp(-2))+2\n",
    "    else:\n",
    "        x = -np.log(1 - u)\n",
    "    x_samples.append(x)\n",
    "\n",
    "\n",
    "# Plot the histogram of generated samples\n",
    "plt.hist(x_samples, bins=30, density=True, alpha=0.75, color='b')\n",
    "plt.xlabel('x')\n",
    "plt.ylabel('Probability')\n",
    "plt.legend('Samples')\n",
    "plt.title('Histogram of 1000 Samples from the Desired Distribution')\n",
    "\n",
    "def pdf(x):\n",
    "    if 0 <= x <= 2:\n",
    "        return np.exp(x-2)\n",
    "    else:\n",
    "        return np.exp(-x)\n",
    "    \n",
    "# Create an array of x values for the PDF curve\n",
    "x_values = np.linspace(0, 10, 10000)  # Range from 0 to 4/3\n",
    "\n",
    "# Calculate the corresponding PDF values\n",
    "pdf_values = [pdf(x) for x in x_values]\n",
    "\n",
    "# Plot the PDF curve\n",
    "plt.plot(x_values, pdf_values, 'r-', label='PDF')\n",
    "\n",
    "plt.legend()\n",
    "plt.grid(True)\n",
    "plt.show()\n",
    "\n",
    "\n"
   ]
  },
  {
   "cell_type": "markdown",
   "metadata": {
    "id": "UqMEV_6i9iU4"
   },
   "source": [
    "___\n",
    "___\n",
    "\n",
    "## Question 3: Acceptance-Rejection (25 pts)\n",
    "\n",
    "Let the random variable $X$ have density\n",
    "$$f(x) = \\begin{cases} (5 x^4 + 4x^3 + 3x^2+1)/4  & \\text{ for } 0 \\leq x \\leq 1, \\\\\n",
    "0 & \\text{ otherwise. } \\end{cases}$$"
   ]
  },
  {
   "cell_type": "markdown",
   "metadata": {
    "id": "dNp6yFaQ9iU5"
   },
   "source": [
    "___\n",
    "**(a)** Give an acceptance-rejection algorithm to generate samples of\n",
    "\t$X$.\n",
    "\n",
    "___"
   ]
  },
  {
   "cell_type": "markdown",
   "metadata": {
    "id": "AKnYl0kLLd37"
   },
   "source": [
    "### Ans.\n"
   ]
  },
  {
   "cell_type": "code",
   "execution_count": 72,
   "metadata": {
    "id": "y1c8ExQxLdEB"
   },
   "outputs": [
    {
     "data": {
      "image/png": "[encoded data removed]",
      "text/plain": [
       "<Figure size 432x288 with 1 Axes>"
      ]
     },
     "metadata": {
      "needs_background": "light"
     },
     "output_type": "display_data"
    }
   ],
   "source": [
    "x = np.linspace(0, 1, 400)\n",
    "\n",
    "# Calculate the corresponding y values using the equation\n",
    "y = (5 * x**4 + 4 * x**3 + 3 * x**2 + 1) / 4\n",
    "\n",
    "# Create the plot\n",
    "plt.plot(x, y, label=r'$f(x)=\\frac{5x^4 + 4x^3 + 3x^2 + 1}{4}$', color='blue')\n",
    "plt.xlabel('x')\n",
    "plt.ylabel('y')\n",
    "plt.title('Plot of the Equation')\n",
    "plt.legend()\n",
    "plt.grid(True)\n",
    "plt.xlim(0, 1.2)\n",
    "plt.ylim(0, 4)\n",
    "# Show the plot\n",
    "plt.show()"
   ]
  },
  {
   "cell_type": "markdown",
   "metadata": {},
   "source": [
    "* Choose M to be 13/4 The acceptance-rejection algorithm \n",
    "* First generte 2 uniform samples from Uniform[0,1](call it u1 and u2) and than check if u2 <=f(x)/cg(x), if it's true we keep u1, otherwise we regenerate 2 uniform samples  from Uniform[0,1]"
   ]
  },
  {
   "cell_type": "code",
   "execution_count": 105,
   "metadata": {},
   "outputs": [
    {
     "name": "stdout",
     "output_type": "stream",
     "text": [
      "[0.3811169023048241, 0.9547933748811147, 0.9410968044211618, 0.598789643717158, 0.5051606386092203, 0.5918597736904203, 0.36250074034629776, 0.8810514896808599, 0.8762282742377873, 0.20354272723893552, 0.9276236467367792]\n"
     ]
    }
   ],
   "source": [
    "import random\n",
    "c = 13/4\n",
    "#The acceptance-rejection algorithm \n",
    "def accep_rej(n):\n",
    "    X = []\n",
    "    while len(X)<=n:\n",
    "        Y = random.uniform(0,1)\n",
    "        U = random.uniform(0,1)\n",
    "        if U <= (5*Y**4 + 4*Y**3 + 3*Y**2 + 1)/13:\n",
    "            X.append(Y)\n",
    "    return X\n",
    "\n",
    "#For example, if we want to generate 10 samples\n",
    "print(accep_rej(10))"
   ]
  },
  {
   "cell_type": "markdown",
   "metadata": {
    "id": "96QbSXGn9iU8"
   },
   "source": [
    "___\n",
    "**(b)** On average, how many samples from the uniform distribution over $[0, 1]$ would your acceptance-rejection algorithm need in order to generate one sample of $X$?\n",
    "___"
   ]
  },
  {
   "cell_type": "markdown",
   "metadata": {
    "id": "w64tpH0bO_Hb"
   },
   "source": [
    "### Ans.\n"
   ]
  },
  {
   "cell_type": "markdown",
   "metadata": {},
   "source": [
    "First, we find P(acceptance) = $\\int_{0}^{1}\\frac{5x^{4}+4x^{3}+3x^{2}+1}{13}dx = \\frac{1}{13}(x^{5}+x^{4}+x^{3}+x) = \\frac{4}{13}$ Since E(acceptance) = 1/P(acceptance), we know E(acceptance) = $\\frac{13}{4}$"
   ]
  },
  {
   "cell_type": "markdown",
   "metadata": {
    "id": "YudPqIiq9iU9"
   },
   "source": [
    "___\n",
    "**(c)** Use your algorithm in (a) to generate 2,500 samples of $X$. Note that this will require more than 2500 uniform random variables.\n",
    "\n",
    "Plot a histogram of your sample   and compare it against the true pdf.\n",
    "___\n"
   ]
  },
  {
   "cell_type": "code",
   "execution_count": 106,
   "metadata": {
    "id": "7-qoF2L_LmIF"
   },
   "outputs": [
    {
     "data": {
      "text/plain": [
       "[<matplotlib.lines.Line2D at 0x7fe1601df610>]"
      ]
     },
     "execution_count": 106,
     "metadata": {},
     "output_type": "execute_result"
    },
    {
     "data": {
      "image/png": "[encoded data removed]",
      "text/plain": [
       "<Figure size 432x288 with 1 Axes>"
      ]
     },
     "metadata": {
      "needs_background": "light"
     },
     "output_type": "display_data"
    }
   ],
   "source": [
    "plt.hist(accep_rej(2500), density = True, label = \"samples of X\")\n",
    "true_X = np.linspace(0,1,1000)\n",
    "def f(x):\n",
    "    if 0<=x<=1:\n",
    "        return(5*x**4 + 4*x**3 + 3*x**2 + 1)/4\n",
    "    else:\n",
    "        return 0\n",
    "value = [f(x) for x in true_X]\n",
    "plt.plot(true_X, value, label = \"true pdf\")"
   ]
  },
  {
   "cell_type": "markdown",
   "metadata": {
    "id": "zI57JDhK9iU_"
   },
   "source": [
    "___\n",
    "___\n",
    "\n",
    "## Question 4: Generalized Acceptance-Rejection (30 pts)\n",
    "\n",
    "We want to generate a $\\mathcal{N}(0,1)$ rv $X$, with pdf\n",
    "$f(x) = \\frac{e^{-x^2/2}}{\\sqrt{2\\pi}} $,\n",
    "using generalized acceptance-rejection."
   ]
  },
  {
   "cell_type": "markdown",
   "metadata": {
    "id": "ycCxosPw9iVA"
   },
   "source": [
    "___\n",
    "\n",
    "**(a)** First, suppose we choose the proposal distribution to be a Laplace(i.e., two-sided Exponential) distribution, which has pdf $g(x) = e^{-|x|}/2$. Describe (and implement) an inversion algorithm to get samples from this distribution.\n",
    "___"
   ]
  },
  {
   "cell_type": "markdown",
   "metadata": {
    "id": "iUMdO2jTDC5n"
   },
   "source": [
    "* First we want to calculate cdf G(x) such that $G(x)= \\begin{cases}\n",
    "                                                \\frac{e^x}{2} & \\text{if x}\\leq 0 \\\\\n",
    "                                                1-\\frac{e^{-x}}{2} & \\text{if x >0}  \\\\ \n",
    "                                            \\end{cases}$ by integrating over regions\n",
    "                                           \n",
    "* Second we determine the inversion of G(x) such that $G^{-1}(u)= \\begin{cases}\n",
    "                                                ln^{2u} & \\text{if u}\\leq 0.5 \\\\\n",
    "                                                -ln^{2-2u} & \\text{if u >0.5}  \\\\ \n",
    "                                            \\end{cases}$\n",
    "                                           \n",
    "                                           \n",
    "* The algorithm is to generate samples from uniform distribution and plug into      $G^{-1}(u)$       to get samples of this distribution and call it U.\n"
   ]
  },
  {
   "cell_type": "markdown",
   "metadata": {
    "id": "w5uME6KO9iVB"
   },
   "source": [
    "___\n",
    "**(b)** Determine the smallest $k$ such that $kg(x)\\geq f(x)\\,\\forall\\,x\\in\\mathbb{R}$. Using this, propose (and implement) an acceptance-rejection algorithm for sampling $X\\sim\\mathcal{N}(0,1)$, and compute the expected number of samples needed for generating each sample.\n",
    "___"
   ]
  },
  {
   "cell_type": "markdown",
   "metadata": {
    "id": "4Y-Qm3x-PbmM"
   },
   "source": [
    "### Ans."
   ]
  },
  {
   "cell_type": "markdown",
   "metadata": {},
   "source": [
    "Since $\\frac{f(x)}{g(x)} =\\sqrt\\frac{2}{\\pi} * \\frac{e^\\frac{-x^2}{2}}{e^-|x|} = \\sqrt\\frac{2}{\\pi}e^{-x^2/2 + |x|} $\n",
    "And we want to find the maximum ratio between f(x) and g(x).\\\n",
    "Since h(x) = e^x is an increasing function, so it's equivalent as maximizing $-x^2/2 +|x|$ which is an even function therefore we can only maximize it when x >0.\\\n",
    "When x >0, $-x^2/2 +|x|$ is $-x^2/2 +x$, and by taking derivative and set it to 0, we have -x+1=0 so x =1.\\\n",
    "Therefore the maximum value is obtained at x =1 which is equal to\n",
    "\n",
    "$k = e^{1/2}\\sqrt(\\frac{2}{\\pi}) = 1.315489247...$\n",
    "\n",
    "The expected number of times to generate an accepted sample is k which is 1.315489247...\n",
    "* First we want to calculate cdf G(x) such that $G(x)= \\begin{cases}\n",
    "                                                \\frac{e^x}{2} & \\text{if x}\\leq 0 \\\\\n",
    "                                                1-\\frac{e^{-x}}{2} & \\text{if x >0}  \\\\ \n",
    "                                            \\end{cases}$ by integrating over regions\n",
    "                                           \n",
    "* Second we determine the inversion of G(x) such that $G^{-1}(u)= \\begin{cases}\n",
    "                                                ln^{2u} & \\text{if u}\\leq 0.5 \\\\\n",
    "                                                -ln^{2-2u} & \\text{if u >0.5}  \\\\ \n",
    "                                            \\end{cases}$\n",
    "                                           \n",
    "                                         \n",
    "* The algorithm is to generate samples from uniform distribution and plug into      $G^{-1}(u)$       to get samples of this distribution and call it U.\n",
    "\n",
    "* Then we determine the scale factor k\n",
    "\n",
    "* Then we generate V ~ Uniform[0, 1] If $V < 1/k$, then keep $X = U$. Else reject and go back to step 1."
   ]
  },
  {
   "cell_type": "markdown",
   "metadata": {
    "id": "8Uoi08eu9iVD"
   },
   "source": [
    "___\n",
    "**(c)** Generate $1000$ samples from your method in part (b), and plot the histogram of the samples. Also report the average and 95\\% CI for the number of $U[0,1]$ samples needed to generate the $1000$ samples.\n",
    "___"
   ]
  },
  {
   "cell_type": "code",
   "execution_count": 36,
   "metadata": {},
   "outputs": [
    {
     "data": {
      "image/png": "[encoded data removed]",
      "text/plain": [
       "<Figure size 432x288 with 1 Axes>"
      ]
     },
     "metadata": {
      "needs_background": "light"
     },
     "output_type": "display_data"
    },
    {
     "name": "stdout",
     "output_type": "stream",
     "text": [
      "The number of times we generated is 1338\n"
     ]
    }
   ],
   "source": [
    "# Initialize an empty list to store the generated values of G^-1(u)\n",
    "normal_samples = []\n",
    "\n",
    "avg = []\n",
    "\n",
    "# Calculate the scale parameter\n",
    "k = np.exp(1/2) *(np.sqrt(2/np.pi))\n",
    "\n",
    "t = 0\n",
    "\n",
    "while len(normal_samples)< 1000:\n",
    "    u = np.random.uniform(0,1,1)[0]\n",
    "    t = t+1\n",
    "    if u <= 0.5:\n",
    "        g_inverse = np.log(2 * u)\n",
    "        #v = np.random.uniform(0, k *0.5 * np.exp(-abs(g_inverse)), 1)[0]\n",
    "        a = np.random.uniform(0,1,1)[0]\n",
    "        #if v <= (np.exp(-g_inverse**2/2))/ np.sqrt(2 * np.pi):\n",
    "          #  normal_samples.append(g_inverse)\n",
    "        if a<=1/k:\n",
    "            normal_samples.append(g_inverse)\n",
    "            l = len(normal_samples)\n",
    "            avg.append(t/l)\n",
    "    else:\n",
    "        g_inverse = -np.log(2 - 2 * u)\n",
    "        #v = np.random.uniform(0, k  *0.5 * np.exp(-abs(g_inverse)) , 1)\n",
    "        a = np.random.uniform(0,1,1)[0]\n",
    "        #if v <= (np.exp(-g_inverse**2)/2) / np.sqrt(2 * np.pi):\n",
    "            #normal_samples.append(g_inverse)\n",
    "        if a<=1/k:\n",
    "            normal_samples.append(g_inverse)\n",
    "            l = len(normal_samples)\n",
    "            avg.append(t/l)\n",
    "            \n",
    "plt.hist(normal_samples, bins=30, density=True, alpha=0.75, color='b')\n",
    "plt.xlabel('Generated Sample')\n",
    "plt.ylabel('Probability')\n",
    "plt.title('Histogram')\n",
    "plt.grid(True)\n",
    "plt.show()\n",
    "print(\"The number of times we generated is\", t)"
   ]
  },
  {
   "cell_type": "code",
   "execution_count": 37,
   "metadata": {},
   "outputs": [
    {
     "name": "stdout",
     "output_type": "stream",
     "text": [
      "Mean: 1.3445536384859706\n",
      "CI [1.340528973741929, 1.3485783032300123]\n"
     ]
    }
   ],
   "source": [
    "# Calculate the mean\n",
    "mean = np.mean(avg)\n",
    "std = np.std(avg)\n",
    "ci_lower=  mean - 1.96*(std)/np.sqrt(1000)\n",
    "ci_upper=  mean + 1.96*(std)/np.sqrt(1000)\n",
    "# Print the results\n",
    "print(\"Mean:\", mean)\n",
    "print(\"CI\",[ci_lower, ci_upper])"
   ]
  },
  {
   "cell_type": "markdown",
   "metadata": {
    "id": "s7pvcQl7pgbx"
   },
   "source": [
    "___\n",
    "**(d)** Now, suppose instead we choose the proposal distribution to be a Cauchy  distribution with pdf $g(x) = \\frac{1}{\\pi(1+x^2)}$. Describe and implement an inversion algorithm to get samples from this distribution, and plot the histogram of 1000 samples from this distribution.\n",
    "___"
   ]
  },
  {
   "cell_type": "markdown",
   "metadata": {},
   "source": [
    "$$\n",
    "G(x) = \\frac{1}{\\pi}\\arctan x + \\frac{1}{2}.\n",
    "$$\n",
    "\n",
    "$$\n",
    "G^{-1}(y) = \\tan\\left(\\pi(y - \\frac{1}{2})\\right)\n",
    "$$\n",
    "\n",
    "\n",
    "* Generate $U \\text{  from } U[0, 1]$.\n",
    "* Then let$X = F^{-1}(U)$."
   ]
  },
  {
   "cell_type": "code",
   "execution_count": 8,
   "metadata": {
    "id": "XepRuz8MpqoG"
   },
   "outputs": [
    {
     "data": {
      "image/png": "[encoded data removed]",
      "text/plain": [
       "<Figure size 432x288 with 1 Axes>"
      ]
     },
     "metadata": {
      "needs_background": "light"
     },
     "output_type": "display_data"
    }
   ],
   "source": [
    "import random\n",
    "import math\n",
    "sample = []\n",
    "for i in range(1000):\n",
    "    U = random.uniform(0,1)\n",
    "    X = math.tan(math.pi*(U-1/2))\n",
    "    sample.append(X)\n",
    "plt.hist(sample,bins = 1000, density=True)\n",
    "plt.xlim(-5,5)\n",
    "plt.show()"
   ]
  },
  {
   "cell_type": "markdown",
   "metadata": {
    "id": "lC7VSz_n9iVF"
   },
   "source": [
    "___\n",
    "**(e)** Repeat parts $(b)$ and $(c)$ for this proposal distribution.\n",
    "___"
   ]
  },
  {
   "cell_type": "markdown",
   "metadata": {
    "id": "vFu541LlPzQ2"
   },
   "source": [
    "### Ans."
   ]
  },
  {
   "cell_type": "markdown",
   "metadata": {},
   "source": [
    "We determine the sclae factor by looking at the function of ratio of f and g"
   ]
  },
  {
   "cell_type": "code",
   "execution_count": 9,
   "metadata": {
    "id": "uzJE8B1ZsWoV"
   },
   "outputs": [
    {
     "data": {
      "image/png": "[encoded data removed]",
      "text/plain": [
       "<Figure size 576x432 with 1 Axes>"
      ]
     },
     "metadata": {
      "needs_background": "light"
     },
     "output_type": "display_data"
    },
    {
     "name": "stdout",
     "output_type": "stream",
     "text": [
      "max_y 1.520346779430431\n"
     ]
    }
   ],
   "source": [
    "\n",
    "# Create an array of x values\n",
    "x = np.linspace(-5, 5, 10000)  # Adjust the range as needed\n",
    "\n",
    "# Calculate the corresponding y values for the function\n",
    "y = np.exp(-x**2 / 2) * (1 + x**2) * np.pi / np.sqrt(2 * np.pi)\n",
    "max_y = np.max(y)\n",
    "max_x = x[np.argmax(y)]\n",
    "# Create a plot\n",
    "plt.figure(figsize=(8, 6))\n",
    "plt.plot(x, y, label='y = $e^{-x^2/2} (1 + x^2) \\pi / \\sqrt{2\\pi}$', color='b')\n",
    "plt.xlabel('x')\n",
    "plt.ylabel('y')\n",
    "plt.title('Plot of the Function')\n",
    "plt.legend()\n",
    "plt.grid(True)\n",
    "\n",
    "# Show the plot\n",
    "plt.show()\n",
    "print('max_y', max_y)"
   ]
  },
  {
   "cell_type": "code",
   "execution_count": 16,
   "metadata": {},
   "outputs": [
    {
     "data": {
      "image/png": "[encoded data removed]",
      "text/plain": [
       "<Figure size 432x288 with 1 Axes>"
      ]
     },
     "metadata": {
      "needs_background": "light"
     },
     "output_type": "display_data"
    },
    {
     "name": "stdout",
     "output_type": "stream",
     "text": [
      "The number of times we generated is 4\n"
     ]
    }
   ],
   "source": [
    "new_samples = []\n",
    "\n",
    "avg_new = []\n",
    "\n",
    "# Calculate the scale parameter\n",
    "k = 1.520346779430431\n",
    "\n",
    "\n",
    "def accept_or_rej(y, u):\n",
    "    if u <= np.exp(-y ** 2 / 2) / np.sqrt(2 * np.pi) / (k * 1 / (np.pi * (1 + y ** 2))):\n",
    "        return True\n",
    "    return False\n",
    "\n",
    "while len(new_samples)< 1000:\n",
    "    t = 0\n",
    "    while True:\n",
    "        u = np.random.uniform(0,1,1)[0]\n",
    "        y = math.tan(math.pi*(u-1/2))\n",
    "        t = t+1\n",
    "        a = np.random.uniform(0,1,1)[0]\n",
    "        if accept_or_rej(y, a):\n",
    "            new_samples.append(y)\n",
    "            break\n",
    "    avg_new.append(t)\n",
    "        \n",
    "plt.hist(new_samples, bins=100, density=True, alpha=0.75, color='b')\n",
    "plt.xlabel('Generated Sample')\n",
    "plt.ylabel('Probability')\n",
    "plt.title('Histogram')\n",
    "plt.grid(True)\n",
    "plt.show()"
   ]
  },
  {
   "cell_type": "code",
   "execution_count": 20,
   "metadata": {},
   "outputs": [
    {
     "name": "stdout",
     "output_type": "stream",
     "text": [
      "Mean: 1.528\n",
      "CI is [1.4706816104064324, 1.5853183895935676]\n"
     ]
    }
   ],
   "source": [
    "# Calculate the mean\n",
    "mean_new = np.mean(avg_new)\n",
    "std_new = np.std(avg_new)\n",
    "ci_lower_new=  mean_new - 1.96*(std_new)/np.sqrt(1000)\n",
    "ci_upper_new=  mean_new + 1.96*(std_new)/np.sqrt(1000)\n",
    "# Print the results\n",
    "print(\"Mean:\", mean_new)\n",
    "print(\"CI is\",[ci_lower_new, ci_upper_new])"
   ]
  },
  {
   "cell_type": "code",
   "execution_count": null,
   "metadata": {},
   "outputs": [],
   "source": []
  }
 ],
 "metadata": {
  "colab": {
   "provenance": []
  },
  "kernelspec": {
   "display_name": "Python 3 (ipykernel)",
   "language": "python",
   "name": "python3"
  },
  "language_info": {
   "codemirror_mode": {
    "name": "ipython",
    "version": 3
   },
   "file_extension": ".py",
   "mimetype": "text/x-python",
   "name": "python",
   "nbconvert_exporter": "python",
   "pygments_lexer": "ipython3",
   "version": "3.9.7"
  }
 },
 "nbformat": 4,
 "nbformat_minor": 1
}
