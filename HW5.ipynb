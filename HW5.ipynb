{
 "cells": [
  {
   "cell_type": "markdown",
   "metadata": {
    "id": "yEYDm_ICb4GC"
   },
   "source": [
    "# ORIE 4580/5580/5581 Assignment 5\n",
    "\n",
    "#### Students: Junliang Wu (jw2727) and Kevin Wang (kw677)\n",
    "\n",
    "### Github link: [example Github link](https://github.com/SidBanerjee/ORIE4580-Simulation/blob/main/Notebooks/Unit0-Intro_Demos.ipynb)\n"
   ]
  },
  {
   "cell_type": "markdown",
   "metadata": {
    "id": "l3G_wUFRg9v6"
   },
   "source": [
    "### Instructions\n",
    "\n",
    "\n",
    "* Due Friday, October 13, at 11.59am on Gradescope.\n",
    "* Assignment .ipynb files available for download on [Canvas](https://canvas.cornell.edu/courses/56826#:~:text=Assignments-,Assignments,-Assignments%20Module%20publish). Do all your work in provided notebook (text answers typeset in markdown; show all required code and generate plots inline), and then generate and submit a pdf.\n",
    "* Ideally do assignments in groups of 2, and submit a single pdf with both names\n",
    "* Please show your work and clearly mark your answers.\n",
    "* You can use any code fragments given in class, found online (for example, on StackOverflow), or generated via Bard or ChatGPT (you are encouraged to use these for first drafts) **with proper referencing**. You can also discuss with others (again, please reference them if you do so); but you must write your final answers on your own as a team.\n",
    "\n",
    "\n",
    "\n",
    "### Suggested reading\n",
    "\n",
    "Chapters 8 (all parts) and 9 (up to Section 9.2 for the midterm) of [Simulation by Ross](https://catalog.library.cornell.edu/catalog/12745977)."
   ]
  },
  {
   "cell_type": "markdown",
   "metadata": {
    "id": "5AMJpIgg0AUP"
   },
   "source": [
    "\n",
    "\n",
    "\n",
    "---\n",
    "---\n",
    "\n",
    "\n",
    "# Question 1: Red-Tailed Hawks! (15 points)\n",
    "\n",
    "(Dedicated to [Big Red and Arthur](https://www.youtube.com/watch?v=diIn5tc8AJo), and their amazing family!)\n",
    "\n",
    "A School of Ornithology researcher wants to estimate the number of red-tailed hawks in Ithaca. She radio tags 10 birds, and then sets up a feeding station with automatic camera.\n",
    "\n",
    "The researcher believes that each individual bird's visits to the feeder can be modeled as a *Poisson process* with some unknown rate $\\lambda$; we will talk more about the Poisson process in detail later in the semester (for a quick refresher, see Section 2.9.4 of Ross), but for this question, the main thing you need to know is that this is a process that counts a discrete number of arrivals, where the *inter-arrival* between one arrival and the next is independent and identically distributed as an Exponential$(\\lambda)$ random variable (similar to the trains in question 5b in the previous assignment).\n",
    "\n",
    "**(a)**\n",
    "Over the first five weeks, the researcher observes an average of 28.8 birds (tagged and untagged) visiting the feeder, with an average of 6 tagged birds per week. Use the method of moments to obtain an estimate for the total population."
   ]
  },
  {
   "cell_type": "markdown",
   "metadata": {
    "id": "FdZFPY8J00Nz"
   },
   "source": [
    "___\n",
    "## Ans.\n"
   ]
  },
  {
   "cell_type": "markdown",
   "metadata": {
    "id": "kHPnqRj105lL"
   },
   "source": [
    "___\n",
    "\n",
    "**(b)** Next, the researcher develops a video processing program which can identify and distinguish different individual birds from their pictures. Using this, over the next week, she observes 20 unique birds visiting the feeding station, out of which 4 are tagged. What is the MLE for the size of the hawk population in Ithaca?\n",
    "\n",
    "___"
   ]
  },
  {
   "cell_type": "markdown",
   "metadata": {
    "id": "o-b5c59b2CV-"
   },
   "source": [
    "## Ans.\n",
    "\n"
   ]
  },
  {
   "cell_type": "code",
   "execution_count": null,
   "metadata": {
    "id": "mT-3ogKx2Hzl"
   },
   "outputs": [],
   "source": []
  },
  {
   "cell_type": "markdown",
   "metadata": {
    "id": "YX0Mw-EVb4GE"
   },
   "source": [
    "___\n",
    "___\n",
    "\n",
    "# Question 2: Soup for Lunch? (15 points)\n",
    "\n",
    "The folks at the [Temple of Zeus](https://as.cornell.edu/about/temple-of-zeus) have the best soup offerings at Cornell -- however, by the time you are done with Simulation, they often run out of soup. To remedy this, you want to try and understand the demand for soup, so that you can suggest how much they should make. You decide to model the total demand $N$ for soups each day as a geometric random variable with parameter $p$ (i.e., $P(N = k) = (1-p)^kp$, $k \\ge 0$).\n",
    "\n",
    "The Temple of Zeus manager gives you data for the number of lunches sold in the last $100$ days. One problem though is that the data is *censored*: the staff prepared soup for at most $40$ servings each day, and as a result, the number of sales each day is between 0 and 40. As a result, on days when the number of soups sold is $40$, you cannot be sure what the true demand $N_i$ was (but you know $N_i\\geq 40$); on other days, the number of soups sold is the true demand $N_i<40$."
   ]
  },
  {
   "cell_type": "markdown",
   "metadata": {
    "id": "Yjy3dHqpb4GF"
   },
   "source": [
    "___\n",
    "\n",
    "**(a)**\n",
    "What is the probability mass function of the per-day sales $Y$ in terms of $p$?\n",
    "___\n"
   ]
  },
  {
   "cell_type": "markdown",
   "metadata": {
    "id": "wOQnI769b4GF"
   },
   "source": [
    "## Ans.\n",
    "It depends on two cases. Firstly, when 0 <= Y < 40, it implies $N_{i}$ is less than 40. So, when Y = k where k is from 0 to 30, it follows the same distribution which mentioned in the question. So, $P(Y = y) = P(Y = k) = P(N = k) = (1-p)^{k}*p$. Second, when Y = 40, it implies $N_{i}$>=40. So, $P(Y = y) = P(N_{i}>=40) = 1 - P(N_{i} <= 40) = 1 - ((1-p)^{0}*p+(1-p)^{1}*p+...+(1-p)^{39}*p)$"
   ]
  },
  {
   "cell_type": "markdown",
   "metadata": {
    "id": "DRpHC9hbb4GF"
   },
   "source": [
    "___\n",
    "\n",
    "**(b)** Compute a maximum likelihood estimator of $p$ based on the sales data for soup given in `Soup_sales_data.csv`.\n",
    "___"
   ]
  },
  {
   "cell_type": "markdown",
   "metadata": {
    "id": "1khe5-56b4GF"
   },
   "source": [
    "## Ans.\n"
   ]
  },
  {
   "cell_type": "markdown",
   "metadata": {
    "id": "00N4KuJqlEHf"
   },
   "source": [
    "For the likelihood function $L(p) = \\prod{(1-p)^{Y_{i}}*p}*\\prod{(1-p)^{40}}$. So $log(L(p)) = \\sum{Y_{i}log(1-p)+log(p)} + \\sum{40log(1-p)}$\n",
    "Now, $\\frac{d(logL(p))}{dp} = \\sum{(\\frac{-Y_{i}}{1-p}+\\frac{1}{p})} - \\sum{\\frac{40}{1-p}} = 0$. The first summation is about Yi < 40 and the second one is for Yi = 40. Then, simplifying the equation, we have $\\frac{d(logL(p))}{dp} = summation * \\frac{-1}{1-p} + n_{uncensored} * \\frac{1}{p} - n_{censored} * \\frac{40}{1-p} = 0$ By using the code below, we know that summation = 1037, n_uncensored = 66, n_censored = 34. By solving the equation, we know p = 0.0268"
   ]
  },
  {
   "cell_type": "code",
   "execution_count": 99,
   "metadata": {},
   "outputs": [
    {
     "data": {
      "text/plain": [
       "(66, 34, 1037)"
      ]
     },
     "execution_count": 99,
     "metadata": {},
     "output_type": "execute_result"
    }
   ],
   "source": [
    "import numpy as np\n",
    "import pandas as pd\n",
    "data = pd.read_csv('Soup_sales_data.csv')\n",
    "uncensored = data[data['Y']<40]['Y']\n",
    "censored = data[data['Y'] == 40]\n",
    "n_uncensored = len(uncensored)\n",
    "n_censored = len(censored)\n",
    "summation = sum(uncensored)\n",
    "n_uncensored, n_censored, summation"
   ]
  },
  {
   "cell_type": "markdown",
   "metadata": {
    "id": "Lh-UW13FuhSQ"
   },
   "source": [
    "___\n",
    "___\n",
    "\n",
    "# Question 3: The Birthday Paradox (40 pts)\n",
    "\n",
    "In this question, we investigate the celebrated [birthday paradox](https://en.wikipedia.org/wiki/Birthday_problem)!"
   ]
  },
  {
   "cell_type": "markdown",
   "metadata": {
    "id": "yc0A7WxsuyEy"
   },
   "source": [
    "___\n",
    "\n",
    "**(a)** The basic question you may have seen in earlier probability courses is the following: given a party of $n$ people whose birthdays are drawn uniformly over the $365$ days in the year, what is the probability that at least two people share a birthday. Derive an expression for the probability, and plot it for $n\\in\\{10,11,12,\\ldots,49,50\\}$.\n",
    "___"
   ]
  },
  {
   "cell_type": "markdown",
   "metadata": {},
   "source": [
    "The probability that at least two people share a birthday within a group of n people is defined in the function birthday_probability. We first calculate the probability that no two people share the same birthday and subtract from 1."
   ]
  },
  {
   "cell_type": "markdown",
   "metadata": {
    "id": "EGsUT8JvwI-7"
   },
   "source": [
    "## Ans."
   ]
  },
  {
   "cell_type": "code",
   "execution_count": 3,
   "metadata": {
    "id": "CGZf5O0Kx9Ws"
   },
   "outputs": [
    {
     "data": {
      "image/png": "[encoded data removed]",
      "text/plain": [
       "<Figure size 432x288 with 1 Axes>"
      ]
     },
     "metadata": {
      "needs_background": "light"
     },
     "output_type": "display_data"
    }
   ],
   "source": [
    "import matplotlib.pyplot as plt\n",
    "\n",
    "def birthday_probability(n):\n",
    "    p_no_shared_birthday = 1.0\n",
    "    for i in range(n):\n",
    "        p_no_shared_birthday *= (365 - i) / 365\n",
    "    return 1 - p_no_shared_birthday\n",
    "\n",
    "n_values = list(range(10, 51))\n",
    "probabilities = [birthday_probability(n) for n in n_values]\n",
    "\n",
    "plt.plot(n_values, probabilities)\n",
    "plt.xlabel('Number of People (n)')\n",
    "plt.ylabel('Probability of Shared Birthday')\n",
    "plt.title('Birthday Paradox Probability')\n",
    "plt.grid(True)\n",
    "plt.show()"
   ]
  },
  {
   "cell_type": "markdown",
   "metadata": {
    "id": "QhBwTPrLwKhV"
   },
   "source": [
    "___\n",
    "**(b)** Next, we want to obtain the above probabilities by simulation. For a given $n$, perform simulations so as to estimate the probability  of at least two people sharing birthdays in a group of $n$, for $n\\in\\{15,16,\\ldots,30\\}$, up to $2$ decimal places (with $95\\%$ confidence). Plot the estimates and $95\\%$ CI, and also plot the theoretical result from part $(a)$ in the same plot.\n",
    "___"
   ]
  },
  {
   "cell_type": "markdown",
   "metadata": {
    "id": "_u8ikVrMx664"
   },
   "source": [
    "## Ans."
   ]
  },
  {
   "cell_type": "code",
   "execution_count": 4,
   "metadata": {
    "id": "L9gMbHO2x8cT"
   },
   "outputs": [
    {
     "data": {
      "image/png": "[encoded data removed]",
      "text/plain": [
       "<Figure size 720x432 with 1 Axes>"
      ]
     },
     "metadata": {
      "needs_background": "light"
     },
     "output_type": "display_data"
    }
   ],
   "source": [
    "import random\n",
    "import matplotlib.pyplot as plt\n",
    "import numpy as np\n",
    "\n",
    "def has_shared_birthday(n):\n",
    "    # Generate n random birthdays (1 to 365)\n",
    "    birthdays = [random.randint(1, 365) for _ in range(n)]\n",
    "    # Check for shared birthdays\n",
    "    return len(birthdays) != len(set(birthdays))\n",
    "\n",
    "def simulate_birthday_paradox(n, num_simulations):\n",
    "    results = []\n",
    "    has_or_no = []\n",
    "    for _ in range(num_simulations):\n",
    "        shared_birthday = has_shared_birthday(n)\n",
    "        results.append(shared_birthday)\n",
    "        if shared_birthday == True:\n",
    "            has_or_no.append(1)\n",
    "        else:\n",
    "            has_or_no.append(0)\n",
    "            \n",
    "    \n",
    "    # Calculate the probability estimate\n",
    "    probability_estimate = sum(results) / num_simulations\n",
    "    # Calculate the 95% confidence interval\n",
    "    lower_bound = probability_estimate - 1.96 * np.std(has_or_no)/np.sqrt(num_simulations)\n",
    "    upper_bound = probability_estimate + 1.96 * np.std(has_or_no)/np.sqrt(num_simulations)\n",
    "    \n",
    "    return probability_estimate, lower_bound, upper_bound\n",
    "\n",
    "# Values of n for simulation\n",
    "n_values = list(range(15, 31))\n",
    "num_simulations = 10000  # You can increase this for more accurate results\n",
    "\n",
    "# Simulate and collect results\n",
    "probability_estimates = []\n",
    "lower_bounds = []\n",
    "upper_bounds = []\n",
    "for n in n_values:\n",
    "    prob, lower, upper = simulate_birthday_paradox(n, num_simulations)\n",
    "    probability_estimates.append(prob)\n",
    "    lower_bounds.append(lower)\n",
    "    upper_bounds.append(upper)\n",
    "\n",
    "# Theoretical results from part (a)\n",
    "theoretical_results = [birthday_probability(n) for n in n_values]\n",
    "\n",
    "# Plot the estimates, 95% CIs, and theoretical results\n",
    "plt.figure(figsize=(10, 6))\n",
    "plt.plot(n_values, probability_estimates, label='Simulated Probabilities', marker='o')\n",
    "plt.fill_between(n_values, lower_bounds, upper_bounds, alpha=0.3)\n",
    "plt.plot(n_values, theoretical_results, label='Theoretical Results (Part a)', linestyle='--', color='red')\n",
    "plt.xlabel('Number of People (n)')\n",
    "plt.ylabel('Probability of Shared Birthday')\n",
    "plt.title('Birthday Paradox Simulation and Theoretical Results')\n",
    "plt.legend()\n",
    "plt.grid(True)\n",
    "plt.show()\n",
    "\n"
   ]
  },
  {
   "cell_type": "markdown",
   "metadata": {
    "id": "fT4Jt0Inx99q"
   },
   "source": [
    "\n",
    "\n",
    "---\n",
    "\n",
    "**(c)** One flaw in our analysis is that birth-dates may not be uniformly distributed throughout the year. To check this, we can look at data of real birth-dates.\n",
    "\n",
    "The file `bdaydata.txt` has a list of $365$ days in the year (excluding February $29$) and the corresponding number of birthdays on that date. Load the dataset and plot the following:\n",
    "\n",
    "i. Empirical histogram of the data\n",
    "\n",
    "ii. Empirical cdf\n",
    "\n",
    "iii. Q-Q plot comparing the data to a uniform distribution\n",
    "\n",
    "(Dataset based on life insurance data from 1981-94; data and example courtesy [Roy Murphy](http://www.panix.com/~murphy/bday.html).)\n",
    "___"
   ]
  },
  {
   "cell_type": "markdown",
   "metadata": {
    "id": "g4c_Csc_ywpw"
   },
   "source": [
    "## Ans."
   ]
  },
  {
   "cell_type": "code",
   "execution_count": 5,
   "metadata": {
    "id": "NkcHgFB4yy41"
   },
   "outputs": [],
   "source": [
    "# For loading the data, you can use \"\"\n",
    "# Please note that the txt file needs to be placed in the same folder with the ipynb file.\n",
    "# To extract the counts column as a vector, use \"df.values[:,1]\""
   ]
  },
  {
   "cell_type": "code",
   "execution_count": 9,
   "metadata": {},
   "outputs": [
    {
     "data": {
      "text/html": [
       "<div>\n",
       "<style scoped>\n",
       "    .dataframe tbody tr th:only-of-type {\n",
       "        vertical-align: middle;\n",
       "    }\n",
       "\n",
       "    .dataframe tbody tr th {\n",
       "        vertical-align: top;\n",
       "    }\n",
       "\n",
       "    .dataframe thead th {\n",
       "        text-align: right;\n",
       "    }\n",
       "</style>\n",
       "<table border=\"1\" class=\"dataframe\">\n",
       "  <thead>\n",
       "    <tr style=\"text-align: right;\">\n",
       "      <th></th>\n",
       "      <th>date</th>\n",
       "      <th>count</th>\n",
       "    </tr>\n",
       "  </thead>\n",
       "  <tbody>\n",
       "    <tr>\n",
       "      <th>0</th>\n",
       "      <td>101</td>\n",
       "      <td>1482</td>\n",
       "    </tr>\n",
       "    <tr>\n",
       "      <th>1</th>\n",
       "      <td>102</td>\n",
       "      <td>1213</td>\n",
       "    </tr>\n",
       "    <tr>\n",
       "      <th>2</th>\n",
       "      <td>103</td>\n",
       "      <td>1220</td>\n",
       "    </tr>\n",
       "    <tr>\n",
       "      <th>3</th>\n",
       "      <td>104</td>\n",
       "      <td>1319</td>\n",
       "    </tr>\n",
       "    <tr>\n",
       "      <th>4</th>\n",
       "      <td>105</td>\n",
       "      <td>1262</td>\n",
       "    </tr>\n",
       "    <tr>\n",
       "      <th>...</th>\n",
       "      <td>...</td>\n",
       "      <td>...</td>\n",
       "    </tr>\n",
       "    <tr>\n",
       "      <th>360</th>\n",
       "      <td>1227</td>\n",
       "      <td>1256</td>\n",
       "    </tr>\n",
       "    <tr>\n",
       "      <th>361</th>\n",
       "      <td>1228</td>\n",
       "      <td>1426</td>\n",
       "    </tr>\n",
       "    <tr>\n",
       "      <th>362</th>\n",
       "      <td>1229</td>\n",
       "      <td>1332</td>\n",
       "    </tr>\n",
       "    <tr>\n",
       "      <th>363</th>\n",
       "      <td>1230</td>\n",
       "      <td>1355</td>\n",
       "    </tr>\n",
       "    <tr>\n",
       "      <th>364</th>\n",
       "      <td>1231</td>\n",
       "      <td>1352</td>\n",
       "    </tr>\n",
       "  </tbody>\n",
       "</table>\n",
       "<p>365 rows × 2 columns</p>\n",
       "</div>"
      ],
      "text/plain": [
       "     date  count\n",
       "0     101   1482\n",
       "1     102   1213\n",
       "2     103   1220\n",
       "3     104   1319\n",
       "4     105   1262\n",
       "..    ...    ...\n",
       "360  1227   1256\n",
       "361  1228   1426\n",
       "362  1229   1332\n",
       "363  1230   1355\n",
       "364  1231   1352\n",
       "\n",
       "[365 rows x 2 columns]"
      ]
     },
     "execution_count": 9,
     "metadata": {},
     "output_type": "execute_result"
    }
   ],
   "source": [
    "df"
   ]
  },
  {
   "cell_type": "code",
   "execution_count": 16,
   "metadata": {},
   "outputs": [
    {
     "data": {
      "text/plain": [
       "365"
      ]
     },
     "execution_count": 16,
     "metadata": {},
     "output_type": "execute_result"
    }
   ],
   "source": [
    "len(empirical_probs)\n",
    "len(empirical_cdf)"
   ]
  },
  {
   "cell_type": "code",
   "execution_count": 13,
   "metadata": {},
   "outputs": [
    {
     "data": {
      "image/png": "[encoded data removed]",
      "text/plain": [
       "<Figure size 864x288 with 1 Axes>"
      ]
     },
     "metadata": {
      "needs_background": "light"
     },
     "output_type": "display_data"
    },
    {
     "data": {
      "image/png": "[encoded data removed]",
      "text/plain": [
       "<Figure size 864x288 with 1 Axes>"
      ]
     },
     "metadata": {
      "needs_background": "light"
     },
     "output_type": "display_data"
    },
    {
     "data": {
      "image/png": "[encoded data removed]",
      "text/plain": [
       "<Figure size 864x288 with 1 Axes>"
      ]
     },
     "metadata": {
      "needs_background": "light"
     },
     "output_type": "display_data"
    }
   ],
   "source": [
    "import numpy as np\n",
    "import matplotlib.pyplot as plt\n",
    "import pandas as pd\n",
    "df = pd.read_csv('bdaydata.txt',sep=' ')\n",
    "counts = df.values[:,1]\n",
    "days = list(range(1, 366))\n",
    "a = np.sum(counts)\n",
    "# Calculate the empirical probability of each day\n",
    "empirical_probs = [count / a for count in counts]\n",
    "\n",
    "# Create an empirical histogram \n",
    "plt.figure(figsize=(12, 4))\n",
    "plt.hist(days, bins=100, weights=counts, density=True, edgecolor='black')\n",
    "plt.xlabel('Day of the Year')\n",
    "plt.ylabel('Probability Density')\n",
    "plt.title('Empirical Probability Density Histogram')\n",
    "plt.show()\n",
    "\n",
    "\n",
    "# Calculate the empirical cumulative distribution function (CDF)\n",
    "empirical_cdf = np.cumsum(empirical_probs)\n",
    "plt.figure(figsize=(12, 4))\n",
    "plt.plot(days, empirical_cdf, marker='o', linestyle='-')\n",
    "plt.xlabel('Day of the Year')\n",
    "plt.ylabel('Empirical CDF')\n",
    "plt.title('Empirical CDF')\n",
    "plt.show()\n",
    "\n",
    "uniform_probs = np.arange(1, 365 + 1) /365\n",
    "plt.figure(figsize=(12, 4))\n",
    "\n",
    "plt.scatter(np.sort(uniform_probs), np.sort(empirical_cdf))\n",
    "plt.plot([0, 1], [0, 1], color='red', linestyle='--')\n",
    "plt.xlabel('Theoretical Quantiles')\n",
    "plt.ylabel('Empirical Quantiles')\n",
    "plt.title('Q-Q Plot')\n",
    "plt.show()\n"
   ]
  },
  {
   "cell_type": "markdown",
   "metadata": {
    "id": "4983wTTlkaG0"
   },
   "source": [
    "___\n",
    "\n",
    "**(d)** Perform a Chi-square Test **and** a Kolmogorov-Smirnov Test to study how well the data is modeled by a uniform distribution.\n",
    "\n",
    "___"
   ]
  },
  {
   "cell_type": "markdown",
   "metadata": {
    "id": "0dWUUfznkl5k"
   },
   "source": [
    "## Ans.\n"
   ]
  },
  {
   "cell_type": "code",
   "execution_count": 30,
   "metadata": {},
   "outputs": [
    {
     "ename": "NameError",
     "evalue": "name 'count' is not defined",
     "output_type": "error",
     "traceback": [
      "\u001b[0;31m---------------------------------------------------------------------------\u001b[0m",
      "\u001b[0;31mNameError\u001b[0m                                 Traceback (most recent call last)",
      "\u001b[0;32m/var/folders/ky/h33ggzc51cv8x_kznz4gsp600000gn/T/ipykernel_7160/1478311456.py\u001b[0m in \u001b[0;36m<module>\u001b[0;34m\u001b[0m\n\u001b[0;32m----> 1\u001b[0;31m \u001b[0;34m[\u001b[0m\u001b[0mint\u001b[0m\u001b[0;34m(\u001b[0m\u001b[0mcount\u001b[0m \u001b[0;34m/\u001b[0m\u001b[0mnp\u001b[0m\u001b[0;34m.\u001b[0m\u001b[0msum\u001b[0m\u001b[0;34m(\u001b[0m\u001b[0mcounts\u001b[0m\u001b[0;34m)\u001b[0m\u001b[0;34m)\u001b[0m\u001b[0;34m]\u001b[0m\u001b[0;34m\u001b[0m\u001b[0;34m\u001b[0m\u001b[0m\n\u001b[0m",
      "\u001b[0;31mNameError\u001b[0m: name 'count' is not defined"
     ]
    }
   ],
   "source": []
  },
  {
   "cell_type": "code",
   "execution_count": 31,
   "metadata": {
    "id": "F3XLVod3kuIc"
   },
   "outputs": [
    {
     "name": "stdout",
     "output_type": "stream",
     "text": [
      "Chi-square test statistic: 1352.7233599950073\n",
      "Chi-square p-value: 1.2489373800065057e-113\n",
      "Kolmogorov-Smirnov test statistic: 0.536986301369863\n",
      "Kolmogorov-Smirnov p-value: 1.4709250126402564e-48\n"
     ]
    }
   ],
   "source": [
    "from scipy import stats\n",
    "# Perform a Chi-square test\n",
    "\n",
    "observed_counts = counts\n",
    "expected_counts = np.full(len(counts), np.sum(counts) / len(counts))\n",
    "\n",
    "chi2, p_chi2 = stats.chisquare(f_obs=observed_counts, f_exp=expected_counts)\n",
    "\n",
    "# Perform a Kolmogorov-Smirnov test\n",
    "#uniform_cdf = np.arange(1, 366) / 365.0  # The expected CDF for a uniform distribution\n",
    "#ks_statistic, p_ks = stats.ks_2samp(empirical_cdf, uniform_cdf)\n",
    "#ks_statistic, p_ks = stats.kstest(empirical_cdf, uniform_cdf)\n",
    "ks_statistic, p_ks = stats.kstest(counts, [int(np.sum(counts)/365)]*365 ) \n",
    "\n",
    "print(f\"Chi-square test statistic: {chi2}\")\n",
    "print(f\"Chi-square p-value: {p_chi2}\")\n",
    "print(f\"Kolmogorov-Smirnov test statistic: {ks_statistic}\")\n",
    "print(f\"Kolmogorov-Smirnov p-value: {p_ks}\")"
   ]
  },
  {
   "cell_type": "markdown",
   "metadata": {
    "id": "ga-5b3SSkoKp"
   },
   "source": [
    "___\n",
    "\n",
    "**(e)** Since you have an extensive dataset of birthday frequency, you can directly use the nonparametric bootstrap to estimate the probability of at least two people sharing birthdays in a group of $n$. Plot the bootstrap estimate and $95\\%$ CI for $n\\in\\{15,16,\\ldots,30\\}$, and compare against the plot in part $(b)$.\n",
    "\n",
    "___"
   ]
  },
  {
   "cell_type": "markdown",
   "metadata": {
    "id": "puJK5Zkio3RD"
   },
   "source": [
    "## Ans.\n"
   ]
  },
  {
   "cell_type": "code",
   "execution_count": 101,
   "metadata": {
    "id": "_Th2tmBoo5Lh"
   },
   "outputs": [
    {
     "name": "stdout",
     "output_type": "stream",
     "text": [
      "480715\n",
      "For n=15, proportion of samples with has same birthday is: 0.23\n",
      "For n=16, proportion of samples with has same birthday is: 0.35\n",
      "For n=17, proportion of samples with has same birthday is: 0.26\n",
      "For n=18, proportion of samples with has same birthday is: 0.41\n",
      "For n=19, proportion of samples with has same birthday is: 0.45\n",
      "For n=20, proportion of samples with has same birthday is: 0.35\n",
      "For n=21, proportion of samples with has same birthday is: 0.42\n",
      "For n=22, proportion of samples with has same birthday is: 0.45\n",
      "For n=23, proportion of samples with has same birthday is: 0.49\n",
      "For n=24, proportion of samples with has same birthday is: 0.59\n",
      "For n=25, proportion of samples with has same birthday is: 0.58\n",
      "For n=26, proportion of samples with has same birthday is: 0.63\n",
      "For n=27, proportion of samples with has same birthday is: 0.62\n",
      "For n=28, proportion of samples with has same birthday is: 0.67\n",
      "For n=29, proportion of samples with has same birthday is: 0.68\n",
      "For n=30, proportion of samples with has same birthday is: 0.74\n"
     ]
    }
   ],
   "source": [
    "import numpy as np\n",
    "import matplotlib.pyplot as plt\n",
    "\n",
    "# Calculate the array of [1 * count, 2 * count, ...]\n",
    "total_data = []\n",
    "for i in days:\n",
    "    total_data.append([i]*counts[i-1])\n",
    "    \n",
    "# Now, weighted_counts contains the desired array\n",
    "flattened_list = [item for sublist in total_data for item in sublist]\n",
    "print(len(flattened_list))\n",
    "\n",
    "# List to store the results\n",
    "results = []\n",
    "lower = []\n",
    "upper =[]\n",
    "for n in range(15, 31):\n",
    "    num_samples = 100 # Number of bootstrap samples (adjust as needed)\n",
    "    same_birth = []\n",
    "    for _ in range(num_samples):\n",
    "        # Randomly sample n elements with replacement from the original list using np.random.choice()\n",
    "        sample = np.random.choice(flattened_list, n, replace=True)\n",
    "        \n",
    "        # Check if all elements in the sample are identical\n",
    "        if len(sample) != len(set(sample)):\n",
    "            same_birth.append(1)\n",
    "        else:\n",
    "            same_birth.append(0)\n",
    "            \n",
    "    # Calculate the proportion of samples with identical elements\n",
    "    proportion = np.sum(same_birth) / num_samples\n",
    "    lower.append(proportion - 1.96 * np.std(same_birth)/np.sqrt(num_samples))\n",
    "    upper.append(proportion + 1.96 * np.std(same_birth)/np.sqrt(num_samples))\n",
    "    results.append((n, proportion))\n",
    "\n",
    "# Print or analyze the results\n",
    "for n, proportion in results:\n",
    "    print(f\"For n={n}, proportion of samples with has same birthday is: {proportion}\")"
   ]
  },
  {
   "cell_type": "code",
   "execution_count": 91,
   "metadata": {},
   "outputs": [
    {
     "data": {
      "image/png": "[encoded data removed]",
      "text/plain": [
       "<Figure size 720x432 with 1 Axes>"
      ]
     },
     "metadata": {
      "needs_background": "light"
     },
     "output_type": "display_data"
    }
   ],
   "source": [
    "# Plot the estimates, 95% CIs, and theoretical results\n",
    "plt.figure(figsize=(10, 6))\n",
    "plt.plot(n_values, np.array(results)[:,1], label='Simulated Probabilities', marker='o')\n",
    "plt.fill_between(n_values, lower, upper, alpha=0.3)\n",
    "plt.plot(n_values, theoretical_results, label='Theoretical Results (Part a)', linestyle='--', color='red')\n",
    "plt.xlabel('Number of People (n)')\n",
    "plt.ylabel('Probability of Shared Birthday')\n",
    "plt.title('Birthday Paradox Simulation Results')\n",
    "plt.legend()\n",
    "plt.grid(True)\n",
    "plt.show()\n"
   ]
  },
  {
   "cell_type": "markdown",
   "metadata": {},
   "source": [
    "The graph above is not alike the graph for part(a), but the overall trends are similar."
   ]
  },
  {
   "cell_type": "markdown",
   "metadata": {
    "id": "FJhVnfbFb4GI"
   },
   "source": [
    "___\n",
    "___\n",
    "\n",
    "# Question 4: Benford's Law (30 pts)\n",
    "\n",
    "In this question, we will use the Chi-square test to study *Benford's law* in a variety of setttings. Consider a data set consisting of $n$ different numbers, and look at the leading digit of each number (for example, the leading digit of $123.456$ is $1$, and the leading digit of $-0.423$ is $4$). For many data sets, the fraction of leading digits that equal $1$ is much higher than $1/9$ (i.e., what it would be if uniformlly distributed); in fact, the probability distribution of the different leading digits $1, 2, \\ldots, 9$ is far from uniform.\n",
    "\n",
    "This observation has been observed to hold in measurements of distances to galaxies, numbers appearing in tax forms and many other settings, and has been used to detect fraud among other uses. See [the Wikipedia page](https://en.wikipedia.org/wiki/Benford\\%27s_law) for a description of this phenomena, and [this blog post](https://terrytao.wordpress.com/2009/07/03/benfords-law-zipfs-law-and-the-pareto-distribution/) for an interesting related discussion. More recently, this has also been (supposedly) misused in (supposedly) detecting (supposed) fraud in election results -- see [this Stand-Up Maths](https://www.youtube.com/watch?v=etx0k1nLn78&t=4s) video for a great example of how data analysis should be done!\n",
    "\n"
   ]
  },
  {
   "cell_type": "markdown",
   "metadata": {
    "id": "xCLoBig-b4GI"
   },
   "source": [
    "___\n",
    "\n",
    "**(a)** First, we will study this phenomena in a *synthetic* dataset. For this, compute the first digits of $n!$ for the first $1500$ integers, and plot their empirical histogram. You can use the code fragment provided to generate the first $n$ factorials.\n",
    "___\n"
   ]
  },
  {
   "cell_type": "markdown",
   "metadata": {
    "id": "YljDZzRgp_G8"
   },
   "source": [
    "## Ans."
   ]
  },
  {
   "cell_type": "code",
   "execution_count": 65,
   "metadata": {
    "id": "77FZ8tmCb4GI",
    "scrolled": true
   },
   "outputs": [
    {
     "data": {
      "image/png": "[encoded data removed]",
      "text/plain": [
       "<Figure size 432x288 with 1 Axes>"
      ]
     },
     "metadata": {
      "needs_background": "light"
     },
     "output_type": "display_data"
    }
   ],
   "source": [
    "#from scipy.misc import factorial\n",
    "#fact_series = factorial(np.arange(n),exact=True)\n",
    "#first_digit = np.zeros(n)\n",
    "#for i in range(n):\n",
    "# first_digit[i] = int(str(fact_series[i])[0])\n",
    "\n",
    "from scipy.special import factorial\n",
    "import numpy as np\n",
    "import matplotlib.pyplot as plt\n",
    "\n",
    "fact_series = factorial(np.arange(1500),exact=True)\n",
    "first_digit = np.zeros(1500)\n",
    "for i in range(1500):\n",
    "    first_digit[i] = int(str(fact_series[i])[0])\n",
    "\n",
    "plt.hist(first_digit, bins=9, rwidth=0.8, align='left', range=(1, 10), density=True)\n",
    "plt.title(\"Empirical Histogram of First Digits of $n!$\")\n",
    "plt.xlabel(\"First Digit\")\n",
    "plt.ylabel(\"Proportion\")\n",
    "plt.xticks(np.arange(1, 10))\n",
    "plt.show()"
   ]
  },
  {
   "cell_type": "markdown",
   "metadata": {},
   "source": [
    "Reference: Chatgpt"
   ]
  },
  {
   "cell_type": "markdown",
   "metadata": {
    "id": "HBT-fHg8b4GI"
   },
   "source": [
    "___\n",
    "**(b)** Use a Chi-square test to determine how well the data can be modeled using a uniform distribution.\n",
    "\n",
    "___\n"
   ]
  },
  {
   "cell_type": "markdown",
   "metadata": {
    "id": "0cfhwR8NqeWa"
   },
   "source": [
    "## Ans."
   ]
  },
  {
   "cell_type": "code",
   "execution_count": 73,
   "metadata": {
    "id": "Ehn4QDNZb4GI"
   },
   "outputs": [
    {
     "name": "stdout",
     "output_type": "stream",
     "text": [
      "Chi-Square Statistic is: 670.8000000000002\n",
      "P-value is: 1.3805718582880795e-139\n",
      "Since the p-value is smaller than 0.05, we have evidence to reject null hypothesis\n"
     ]
    }
   ],
   "source": [
    "from scipy.stats import chisquare\n",
    "observed_freq = np.histogram(first_digit, bins=9, range=(1, 10))[0]\n",
    "expected_freq = [1500 / 9] * 9\n",
    "chisquare_stat, p_value = chisquare(observed_freq, expected_freq)\n",
    "\n",
    "chisquare_stat, p_value\n",
    "#Since the p-value is extremely small and approach to 0, it implies the observed\n",
    "#frequencies are significantly different from the expected frequencies.\n",
    "print(f'Chi-Square Statistic is: {chisquare_stat}')\n",
    "print(f'P-value is: {p_value}')\n",
    "print('Since the p-value is smaller than 0.05, we have evidence to reject null hypothesis')"
   ]
  },
  {
   "cell_type": "markdown",
   "metadata": {
    "id": "okLmo5b2b4GI"
   },
   "source": [
    "___\n",
    "\n",
    "**(c)** Next, use a Chi-square test to test how well the data is modeled using the 'Benford's Law' distribution:\n",
    "$$p(d)= \\log _{10}(d+1)-\\log _{10}(d), \\quad d\\in\\{1,2,\\ldots,9\\}$$\n",
    "\n",
    "\n",
    "___"
   ]
  },
  {
   "cell_type": "code",
   "execution_count": 74,
   "metadata": {
    "id": "oz3YDgLpb4GI"
   },
   "outputs": [
    {
     "name": "stdout",
     "output_type": "stream",
     "text": [
      "Chi-Square Statistic is: 9.456569118464648\n",
      "P-value is: 0.3052548339606756\n",
      "Since the p-value is larger than 0.05, we do not have evidence to reject null hypothesis\n"
     ]
    }
   ],
   "source": [
    "import math\n",
    "\n",
    "def benford_pdf(d):\n",
    "    return math.log10(d + 1) - math.log10(d)\n",
    "                                          \n",
    "Benford_distribution = []\n",
    "for i in range(1,10):\n",
    "    p = benford_pdf(i)\n",
    "    Benford_distribution.append(1500*p)\n",
    "    \n",
    "Benford_distribution\n",
    "\n",
    "chisquare_stat, p_value = chisquare(observed_freq, Benford_distribution)\n",
    "\n",
    "print(f'Chi-Square Statistic is: {chisquare_stat}')\n",
    "print(f'P-value is: {p_value}')\n",
    "print('Since the p-value is larger than 0.05, we do not have evidence to reject null hypothesis')"
   ]
  },
  {
   "cell_type": "markdown",
   "metadata": {},
   "source": [
    "Reference: Chatgpt"
   ]
  },
  {
   "cell_type": "markdown",
   "metadata": {
    "id": "rVl8W5m9b4GI"
   },
   "source": [
    "___\n",
    "\n",
    "**(d)** Finally, we will repeat this analysis with a more natural dataset. The dataset `us_pop.csv` contains the US population in 100,000 different zip codes in the year 2010, and the numbers range from less than ten to almost 100,000. As above, compute the histogram of the leading digits, and use the Chi-square test to see how well the data is modeled via the uniform and the Benford's law distributions.\n",
    "___"
   ]
  },
  {
   "cell_type": "markdown",
   "metadata": {
    "id": "rKyZ12L2srUZ"
   },
   "source": [
    "## Ans."
   ]
  },
  {
   "cell_type": "code",
   "execution_count": 75,
   "metadata": {
    "id": "vl7qScg0b4GI",
    "scrolled": true
   },
   "outputs": [
    {
     "data": {
      "image/png": "[encoded data removed]",
      "text/plain": [
       "<Figure size 432x288 with 1 Axes>"
      ]
     },
     "metadata": {
      "needs_background": "light"
     },
     "output_type": "display_data"
    }
   ],
   "source": [
    "import pandas as pd\n",
    "\n",
    "# Read the CSV file into a DataFrame\n",
    "df = pd.read_csv('us_pop.csv')\n",
    "\n",
    "# Now, you have your data in a DataFrame called 'df'\n",
    "re = np.zeros(100000)\n",
    "zip_code = df['population'].values\n",
    "for i in range(100000):\n",
    "    re[i] = int(str(zip_code[i])[0])\n",
    "    \n",
    "plt.hist(re, bins=9, rwidth=0.8, align='left', range=(1, 10), density=True)\n",
    "plt.title(\"Empirical Histogram of First Digits of $n!$\")\n",
    "plt.xlabel(\"First Digit\")\n",
    "plt.ylabel(\"Proportion\")\n",
    "plt.xticks(np.arange(1, 10))\n",
    "plt.show()"
   ]
  },
  {
   "cell_type": "code",
   "execution_count": 79,
   "metadata": {},
   "outputs": [
    {
     "name": "stdout",
     "output_type": "stream",
     "text": [
      "Chi-Square Statistic is: 50323.53572\n",
      "p_value is 0.0 and this is very small therefore we have evidence to reject null hypothesis which is it follows      uniform distribution\n"
     ]
    }
   ],
   "source": [
    "observed_freq = np.histogram(re, bins=9, range=(1, 10))[0]\n",
    "expected_freq = [100000 / 9] * 9\n",
    "chisquare_stat, p_value = chisquare(observed_freq, expected_freq)\n",
    "print(f'Chi-Square Statistic is: {chisquare_stat}')\n",
    "print(f'p_value is {p_value} and this is very small therefore we have evidence to reject null hypothesis which is it follows      '\n",
    "      f'uniform distribution' )"
   ]
  },
  {
   "cell_type": "code",
   "execution_count": 80,
   "metadata": {},
   "outputs": [
    {
     "name": "stdout",
     "output_type": "stream",
     "text": [
      "Chi-Square Statistic is: 11.84322681811079\n",
      "p_value is 0.15833698137850147 therefore we do not have evidence to reject null hypothesis which is it follows         Benford distribution\n"
     ]
    }
   ],
   "source": [
    "observed_freq = np.histogram(re, bins=9, range=(1, 10))[0]\n",
    "Benford_distribution = []\n",
    "for i in range(1,10):\n",
    "    p = benford_pdf(i)\n",
    "    Benford_distribution.append(100000*p)\n",
    "chisquare_stat, p_value = chisquare(observed_freq, Benford_distribution)\n",
    "chisquare_stat, p_value\n",
    "print(f'Chi-Square Statistic is: {chisquare_stat}')\n",
    "print(f'p_value is {p_value} therefore we do not have evidence to reject null hypothesis which is it follows         Benford distribution' )"
   ]
  },
  {
   "cell_type": "markdown",
   "metadata": {},
   "source": [
    "Reference: Chatgpt"
   ]
  },
  {
   "cell_type": "markdown",
   "metadata": {
    "id": "adS-uJlsuEPA"
   },
   "source": [
    "**(e) (Optional for all students)** To understand how the Benford's law distribution originates, the important idea is that when a random variable $X$ ranges over several orders (say between $0$ and $10^6$), then it is better modelled by saying that $\\log_{10}(X)$ is uniformly distributed on interval $[0,6]$ (rather than $X$ being uniform on $[0,10^6]$. Using this, can you derive the the exact probabilities for each of the leading digits."
   ]
  }
 ],
 "metadata": {
  "colab": {
   "provenance": []
  },
  "kernelspec": {
   "display_name": "Python 3 (ipykernel)",
   "language": "python",
   "name": "python3"
  },
  "language_info": {
   "codemirror_mode": {
    "name": "ipython",
    "version": 3
   },
   "file_extension": ".py",
   "mimetype": "text/x-python",
   "name": "python",
   "nbconvert_exporter": "python",
   "pygments_lexer": "ipython3",
   "version": "3.9.7"
  }
 },
 "nbformat": 4,
 "nbformat_minor": 1
}
