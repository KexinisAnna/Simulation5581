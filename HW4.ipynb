{
 "cells": [
  {
   "cell_type": "markdown",
   "metadata": {
    "id": "yEYDm_ICb4GC"
   },
   "source": [
    "# ORIE 4580/5580/5581 Assignment 4\n",
    "\n",
    "#### Students: Junliang Wu (jw2727) and Kexin Wang (kw677)\n",
    "\n",
    "### Github link: [example Github link](https://github.com/SidBanerjee/ORIE4580-Simulation/blob/main/Notebooks/Unit0-Intro_Demos.ipynb)\n"
   ]
  },
  {
   "cell_type": "markdown",
   "metadata": {
    "id": "l3G_wUFRg9v6"
   },
   "source": [
    "### Instructions\n",
    "\n",
    "\n",
    "* Due Friday September 29, at 11.59am on Gradescope.\n",
    "* Assignment .ipynb files available for download on [Canvas](https://canvas.cornell.edu/courses/56826#:~:text=Assignments-,Assignments,-Assignments%20Module%20publish). Do all your work in provided notebook (text answers typeset in markdown; show all required code and generate plots inline), and then generate and submit a pdf.\n",
    "* Ideally do assignments in groups of 2, and submit a single pdf with both names\n",
    "* Please show your work and clearly mark your answers.\n",
    "* You can use any code fragments given in class, found online (for example, on StackOverflow), or generated via Bard or ChatGPT (you are encouraged to use these for first drafts) **with proper referencing**. You can also discuss with others (again, please reference them if you do so); but you must write your final answers on your own as a team.\n",
    "\n",
    "\n",
    "\n",
    "### Suggested reading\n",
    "\n",
    "Chapters 5 (sections 5.1, 5.2 and 5.3) and 6, as well as chapter 11 (to revise again what we discussed in class about confidence intervals) of [Simulation by Ross](https://catalog.library.cornell.edu/catalog/12745977)."
   ]
  },
  {
   "cell_type": "markdown",
   "metadata": {
    "id": "5AMJpIgg0AUP"
   },
   "source": [
    "\n",
    "\n",
    "\n",
    "---\n",
    "---\n",
    "\n",
    "\n",
    "# Question 1: Multivariate normals, and some finance (20 points)\n",
    "\n",
    "\n",
    "Assume the following means and covariance matrix for the net annual returns (annual returns after accounting for inflation) on three investments:\n",
    "\n",
    "$$\\boldsymbol{\\mu}=\n",
    "\\begin{bmatrix}\n",
    "    \\mu_{\\text{U.S. stocks}}\\\\\n",
    "    \\mu_{\\text{U.S. bonds}}\\\\\n",
    "    \\mu_{\\text{EM bonds}}\n",
    "\\end{bmatrix}=\n",
    "\\begin{bmatrix}\n",
    "    0.14 \\\\\n",
    "    0.07 \\\\\n",
    "    0.16\\\\\n",
    "\\end{bmatrix},$$\n",
    "\n",
    "Moreover, we have $\\sigma^2_{\\text{U.S. stocks}}=0.0625, \\sigma^2_{\\text{U.S. bonds}}=0.01$ and $\\sigma^2_{\\text{EM bonds}}=0.09$. Assuming all three instruments are independent of each other, what is the probability that all three financial products simultaneously yield a positive return?\n"
   ]
  },
  {
   "cell_type": "markdown",
   "metadata": {
    "id": "FdZFPY8J00Nz"
   },
   "source": [
    "___\n",
    "## Ans.\n"
   ]
  },
  {
   "cell_type": "markdown",
   "metadata": {},
   "source": [
    "\n",
    "We first find standard deviation for each instrument. $\\sigma_{U.S.stocks}=0.25; \\sigma_{U.S.bonds}=0.1; \\sigma_{EM bonds}=0.3$\n",
    "\n",
    "$$\n",
    "P(X_1>0) = 1-P(X_1<=0)=1-P(Z_1<=\\frac{0-0.14}{0.25})=1-P(Z_1<=-0.56)=1-0.28774=0.71226\n",
    "$$\n",
    "$$\n",
    "P(X_2>0)=1-P(Z_2<=\\frac{0-0.07}{0.1})=1-P(Z_2<=-0.7)=1-0.24196=0.75804\n",
    "$$\n",
    "$$\n",
    "P(X_3>0)=1-P(Z_3<=\\frac{0-0.16}{0.3})=1-P(Z_3<=-0.533)=1-0.2969=0.7031\n",
    "$$\n",
    "Since all three instruments are independent, we know $P(X_1>0,X_2>0,X_3>0)=P(X_1>0)P(X_2>0)P(X_3>0)=0.71226*0.75804*0.7031=0.38$"
   ]
  },
  {
   "cell_type": "markdown",
   "metadata": {
    "id": "kHPnqRj105lL"
   },
   "source": [
    "___\n",
    "\n",
    "**(b)** Next, assume that the assets are not independent, but rather, have covariance matrix\n",
    "$$\\boldsymbol{\\Sigma}=\n",
    "\\begin{bmatrix}\n",
    "    0.0625 & -0.01 & 0.0375 \\\\\n",
    "    -0.01 & 0.01 & -0.015 \\\\\n",
    "    0.0375 & -0.015 & 0.09\n",
    "\\end{bmatrix}.$$\n",
    "\n",
    "Using simulation, estimate the probability that all three financial products simultaneously yield a positive return.\n",
    "For the purposes of this problem, you are **not allowed** to use the Python function ${\\tt numpy.random.multivariate\\_normal}$, but rather, should generate *independent* normal rvs, and then apply the method(s) discussed in class.\n",
    "In particular, you can compute the Cholesky decomposition of the covariance matrix using the Python function ${\\tt scipy.linalg.cholesky(sigma, lower=True)}$.\n",
    "___"
   ]
  },
  {
   "cell_type": "markdown",
   "metadata": {
    "id": "o-b5c59b2CV-"
   },
   "source": [
    "## Ans.\n",
    "\n"
   ]
  },
  {
   "cell_type": "code",
   "execution_count": 63,
   "metadata": {
    "id": "mT-3ogKx2Hzl"
   },
   "outputs": [
    {
     "name": "stdout",
     "output_type": "stream",
     "text": [
      "0.389\n"
     ]
    }
   ],
   "source": [
    "import numpy as np\n",
    "from scipy import linalg\n",
    "\n",
    "cov_matrix=[[0.0625,-0.01,0.0375],[-0.01,0.01,-0.015],[0.0375,-0.015,0.09]]\n",
    "mu = [0.14,0.07,0.16]\n",
    "L = np.linalg.cholesky(cov_matrix)\n",
    "num_simulations = 1000\n",
    "\n",
    "count = 0\n",
    "for _ in range(num_simulations):\n",
    "    N = np.random.randn(3)\n",
    "    values = mu + np.dot(L, N)\n",
    "    if (values[0]>0 and values[1]>0 and values[2]>0):\n",
    "        count += 1\n",
    "\n",
    "probability = count / num_simulations\n",
    "print(probability)\n"
   ]
  },
  {
   "cell_type": "markdown",
   "metadata": {
    "id": "YX0Mw-EVb4GE"
   },
   "source": [
    "___\n",
    "___\n",
    "\n",
    "# Question 2: Covariance and copulas (30 points)\n",
    "\n",
    "In general (i.e., apart from multivariate normals), *there is no closed form formula for generating rvs with given marginals and given covariance matrix*. However, a popular heuristic is the so-called *Gaussian copula trick*, which is widely used in finance. In this question, we will try and get a sense of how we can generate correlated uniforms, and how the Gaussian copula trick works."
   ]
  },
  {
   "cell_type": "markdown",
   "metadata": {
    "id": "Yjy3dHqpb4GF"
   },
   "source": [
    "___\n",
    "\n",
    "**(a)** We will first try and make a method for generating two correlated uniform random variables $V_1$, $V_2$ with mean $\\mathbb{E}[V_1]=\\mathbb{E}[V_2]=0$, variance $Var(V_1)=Var(V_2)=1$, and covariance $Cov( V_1, V_2 ) = \\sigma_{12}$ (for some given $\\sigma_{12}\\geq 0$).\n",
    "\n",
    "For what $\\alpha,\\beta\\in\\mathbb{R}$ does a uniform distribution on $[\\alpha,\\beta]$ have mean $0$ and variance $1$.\n",
    "___\n"
   ]
  },
  {
   "cell_type": "markdown",
   "metadata": {},
   "source": [
    "For any $X ~ U[\\alpha,\\beta], \\mu = \\frac{\\alpha+\\beta}{2}$, so $\\alpha=-\\beta$. $\\sigma^{2} = \\frac{(\\beta-\\alpha)^{2}}{12} = 1$, so $4\\beta^{2}=12, \\beta=+-\\sqrt{3}$ Since $\\alpha = -\\beta$, we know that $\\alpha=-\\sqrt{3}, \\beta=\\sqrt{3}$."
   ]
  },
  {
   "cell_type": "markdown",
   "metadata": {
    "id": "wOQnI769b4GF"
   },
   "source": [
    "## Ans.\n"
   ]
  },
  {
   "cell_type": "markdown",
   "metadata": {
    "id": "DRpHC9hbb4GF"
   },
   "source": [
    "___\n",
    "\n",
    "**(b)** Next, generate rvs $X_1,X_2\\sim Uniform[\\alpha, \\beta]$ i.i.d (with $\\alpha,\\beta$ from previous part), and also sample $B\\sim Bernoulli(p)$. Define:\n",
    "\\begin{align*}\n",
    "\tV_1 = X_1 \\qquad,\\qquad\n",
    "\tV_2 = (1-B)X_1+BX_2 = \\begin{cases} X_1 & \\text{ if $B = 0$} \\\\ X_2 & \\text{ if $B = 1$} \\end{cases}\n",
    "\t\\end{align*}\n",
    "\n",
    "What is $\\mathbb{E}[V_2]$ and $Var(V_2)$?\n",
    "___"
   ]
  },
  {
   "cell_type": "markdown",
   "metadata": {
    "id": "1khe5-56b4GF"
   },
   "source": [
    "## Ans.\n"
   ]
  },
  {
   "cell_type": "markdown",
   "metadata": {},
   "source": [
    "$E(V_2) = E((1-B)X_1+BX_2) = E(1-B)E(X_1) + E(B)E(X_2)$(since they are independent) $=(1-p)*\\frac{\\alpha+\\beta}{2} + p*\\frac{\\alpha+\\beta}{2} = \\frac{\\alpha+\\beta}{2}$\n",
    "\n",
    "$Var(V_2) = E(V_2^{2})-E(V_2)^{2}$，$E(V_2^{2}) = P(B=0)*E(X_1^{2})+P(B=1)*E(X_2^{2})$.\n",
    "\n",
    "$E(X_2^{2}) = Var(X) + E(X)^{2} = \\frac{(\\beta-\\alpha)^{2}}{12} + \\frac{(\\beta+\\alpha)^{2}}{4} = \\frac{\\alpha^{2}+\\alpha\\beta+\\beta^{2}}{3}$\n",
    "\n",
    "Therefore, $Var(V_2)=(1-p)*\\frac{\\alpha^{2}+\\alpha\\beta+\\beta^{2}}{3}+p*\\frac{\\alpha^{2}+\\alpha\\beta+\\beta^{2}}{3}-\\frac{\\alpha^{2}+2\\alpha\\beta+\\beta^{2}}{4}=\\frac{\\alpha^{2}-2\\alpha\\beta+\\beta^{2}}{12}$"
   ]
  },
  {
   "cell_type": "markdown",
   "metadata": {
    "id": "RTfG42xCb4GF"
   },
   "source": [
    "___\n",
    "**(c)** For what value of $p$ do we get $Cov(V_1, V_2 )=\\sigma_{12}$ (for $\\sigma_{12}\\geq 0$)?\n",
    "___"
   ]
  },
  {
   "cell_type": "markdown",
   "metadata": {},
   "source": [
    "$Cov(V_1,V_2) = E(V_1V_2)-E(V_1)E(V_2)$, so $E(V_1V_2) = P(B=0)*E(X_1^{2})+P(B=1）*E(X_1X_2) = (1-p)*\\frac{\\alpha^{2}+\\alpha\\beta+\\beta^{2}}{3}+p*\\frac{\\alpha^{2}+2\\alpha\\beta+\\beta^{2}}{4}-\\frac{\\alpha^{2}+2\\alpha\\beta+\\beta^{2}}{4}=(1-p)*\\frac{(\\alpha-\\beta)^{2}}{12}$\n",
    "\n",
    "$\\sigma_{12} = (1-p)*\\frac{(\\alpha-\\beta)^{2}}{12}, p = 1-\\frac{12\\sigma_{12}}{(\\alpha-\\beta)^{2}}$"
   ]
  },
  {
   "cell_type": "markdown",
   "metadata": {
    "id": "935NIM2wb4GG"
   },
   "source": [
    "## Ans.\n"
   ]
  },
  {
   "cell_type": "markdown",
   "metadata": {
    "id": "PaOyIOB-b4GG"
   },
   "source": [
    "___\n",
    "\n",
    "**(d)** Create a function to generate two correlated uniform random variables $V_1$, $V_2$ such that $\\mathbb{E}[V_1]=\\mathbb{E}[V_2]=0,Var(V_1)=Var(V_2)=1$ and $Cov( U_1, U_2 ) = \\sigma_{12}$. Use this to show a scatter plot of $(V_1,V_2)$ for correlation values $\\sigma_{12}=0,0.25,0.5,0.75$ and $1$.\n",
    "\n",
    "___"
   ]
  },
  {
   "cell_type": "markdown",
   "metadata": {
    "id": "zCTJkhsS24_-"
   },
   "source": [
    "## Ans."
   ]
  },
  {
   "cell_type": "code",
   "execution_count": 64,
   "metadata": {
    "id": "cKKYGfgSb4GG"
   },
   "outputs": [
    {
     "data": {
      "image/png": "[encoded data removed]",
      "text/plain": [
       "<Figure size 432x288 with 5 Axes>"
      ]
     },
     "metadata": {
      "needs_background": "light"
     },
     "output_type": "display_data"
    }
   ],
   "source": [
    "import numpy as np\n",
    "import matplotlib.pyplot as plt\n",
    "\n",
    "correlation_values = [0, 0.25, 0.5, 0.75, 1]\n",
    "def func_plot_generate(correlation_values, num_samples=1000):\n",
    "    def func_generate(sigma12):\n",
    "        x1 = np.random.uniform(-np.sqrt(3), np.sqrt(3), num_samples)\n",
    "        x2 = np.random.uniform(-np.sqrt(3), np.sqrt(3), num_samples)\n",
    "        b = np.random.choice([0, 1], num_samples, p=[sigma12, 1-sigma12])\n",
    "        v1 = x1\n",
    "        v2 = np.where(b == 0, x1, x2)\n",
    "        return v1, v2\n",
    "\n",
    "    for i, sigma12 in enumerate(correlation_values):\n",
    "        v1, v2 = func_generate(sigma12)\n",
    "\n",
    "        plt.subplot(3, 2, i + 1)\n",
    "        plt.scatter(v1, v2, s=10)\n",
    "        plt.title(f'Correlation = {sigma12}')\n",
    "        plt.xlim(0, 1)\n",
    "        plt.ylim(0, 1)\n",
    "        plt.xlabel('V1')\n",
    "        plt.ylabel('V2')\n",
    "\n",
    "    plt.tight_layout()\n",
    "    plt.show()\n",
    "\n",
    "func_plot_generate(correlation_values)\n"
   ]
  },
  {
   "cell_type": "markdown",
   "metadata": {},
   "source": [
    "Reference: ChatGPT"
   ]
  },
  {
   "cell_type": "markdown",
   "metadata": {
    "id": "8p8hETbtb4GG"
   },
   "source": [
    "___\n",
    "\n",
    "**(e)** Using the above function, compute $\\mathbb{P}[V_1\\leq 0,V_2\\leq 0]$ for the case when $\\sigma_{12}=0.5$ (in a financial application, this can correspond to *both* $V_1$ and $V_2$ 'defaulting').\n",
    "___"
   ]
  },
  {
   "cell_type": "markdown",
   "metadata": {
    "id": "sN9OODMa26v1"
   },
   "source": [
    "## Ans."
   ]
  },
  {
   "cell_type": "code",
   "execution_count": 65,
   "metadata": {
    "id": "KEs9PV9vb4GG"
   },
   "outputs": [
    {
     "name": "stdout",
     "output_type": "stream",
     "text": [
      "0.3756\n"
     ]
    }
   ],
   "source": [
    "import numpy as np\n",
    "\n",
    "def generate(sigma12, num_samples=10000):\n",
    "    # Generate independent uniform random variables X1 and X2 on [0, 1]\n",
    "    x1 = np.random.uniform(-np.sqrt(3), np.sqrt(3), num_samples)\n",
    "    x2 = np.random.uniform(-np.sqrt(3), np.sqrt(3), num_samples)\n",
    "    b = np.random.choice([0, 1], num_samples, p=[sigma12, 1-sigma12])\n",
    "    v1 = x1\n",
    "    v2 = np.where(b == 0, x1, x2)\n",
    "    return v1, v2\n",
    "\n",
    "def estimate_probability(sigma12, num_samples=10000):\n",
    "    # Generate correlated uniform variables V1 and V2 based on sigma12\n",
    "    v1, v2 = generate(sigma12, num_samples=num_samples)\n",
    "\n",
    "    # Calculate the probability P[V1 ≤ 0, V2 ≤ 0]\n",
    "    probability = np.mean((v1 <= 0) & (v2 <= 0))\n",
    "\n",
    "    return probability\n",
    "\n",
    "# Specify the correlation value (sigma12) for the case\n",
    "sigma12 = 0.5\n",
    "\n",
    "# Estimate the probability P[V1 ≤ 0, V2 ≤ 0] for the specified correlation\n",
    "probability = estimate_probability(sigma12)\n",
    "\n",
    "print(probability)\n",
    "\n"
   ]
  },
  {
   "cell_type": "markdown",
   "metadata": {
    "id": "uwV_OFX7b4GH"
   },
   "source": [
    "___\n",
    "\n",
    "**(f)** The Gaussian copula trick is based on first generating a multivariate normal vector with given covariance matrix $\\Sigma$, and then using inversion to convert it to a vector of uniform rvs, which can then used to generate the desired rvs. We now demonstrate this in the above setting.\n",
    "\n",
    "Let $\\phi(\\cdot)$ denote the 1-d normal cdf. Generate $(Z_1,Z_2)$ as multivariate normals with covariance\n",
    "$\\Sigma =\\begin{pmatrix}\n",
    "\t\t1 & 0.5 \\\\\n",
    "\t\t0.5 & 1\n",
    "\t\\end{pmatrix}$,\n",
    "and define $W_1 = \\alpha + (\\beta-\\alpha)\\phi(Z_1)$ and $W_2 = \\alpha + (\\beta-\\alpha)\\phi(Z_2)$.\n",
    "\n",
    "Argue $W_1$, $W_2$ are uniform on $[\\alpha,\\beta]$ (and hence $\\mathbb{E}[W_1]=\\mathbb{E}[W_2]=0,Var(W_1)=Var(W_2)=1$). Next, for $\\sigma_{12}=0.5$ and $\\alpha,\\beta$ as above, write a function to generate $W_1,W_2$ as described, and use these to plot the scatter plot, and compute $\\mathbb{P}[W_1\\geq 0,W_2\\geq 0]$.\n",
    "\n",
    "___"
   ]
  },
  {
   "cell_type": "markdown",
   "metadata": {
    "id": "HJSveGTob4GH"
   },
   "source": [
    "## Ans.\n"
   ]
  },
  {
   "cell_type": "code",
   "execution_count": 66,
   "metadata": {},
   "outputs": [
    {
     "name": "stdout",
     "output_type": "stream",
     "text": [
      "0.3341\n"
     ]
    },
    {
     "data": {
      "image/png": "[encoded data removed]",
      "text/plain": [
       "<Figure size 432x288 with 1 Axes>"
      ]
     },
     "metadata": {
      "needs_background": "light"
     },
     "output_type": "display_data"
    }
   ],
   "source": [
    "from scipy.stats import norm\n",
    "sigma12 = 0.5\n",
    "alpha = -np.sqrt(3)\n",
    "beta = np.sqrt(3)\n",
    "\n",
    "def generate_variables(sigma12, alpha, beta, num_samples=10000):\n",
    "    mu = np.array([0, 0])\n",
    "    cov_matrix = np.array([[1, sigma12], [sigma12, 1]])\n",
    "    z1, z2 = np.random.multivariate_normal(mu, cov_matrix, num_samples).T\n",
    "    w1 = alpha + (beta - alpha) * norm.cdf(z1)\n",
    "    w2 = alpha + (beta - alpha) * norm.cdf(z2)\n",
    "\n",
    "    return w1, w2\n",
    "\n",
    "def estimate(sigma12, alpha, beta, num_samples=10000):\n",
    "    w1, w2 = generate_variables(sigma12, alpha, beta, num_samples=num_samples)\n",
    "    probability = np.mean((w1 >= 0) & (w2 >= 0))\n",
    "\n",
    "    return probability\n",
    "\n",
    "probability = estimate(sigma12, alpha, beta)\n",
    "print(probability)\n",
    "\n",
    "w1, w2 = generate_variables(sigma12, alpha, beta, num_samples=1000)\n",
    "plt.scatter(w1, w2, s=10)\n",
    "plt.xlim(alpha, beta)\n",
    "plt.ylim(alpha, beta)\n",
    "plt.xlabel('W1')\n",
    "plt.ylabel('W2')\n",
    "plt.title('Scatter Plot')\n",
    "plt.show()\n"
   ]
  },
  {
   "cell_type": "markdown",
   "metadata": {
    "id": "Lh-UW13FuhSQ"
   },
   "source": [
    "___\n",
    "___\n",
    "\n",
    "# Question 3: Generating random samples in some given set (20 pts)"
   ]
  },
  {
   "cell_type": "markdown",
   "metadata": {
    "id": "yc0A7WxsuyEy"
   },
   "source": [
    "___\n",
    "\n",
    "**(a)** We want to sample points which are uniformly distributed in the set  $\\mathcal{S} = \\{(x,y)| x\\in \\mathbb{R}, y \\in [0,e^{-x^2/2}]\\}$ (i.e., between the lines $y=0$ and $y=e^{-x^2/2}$). Generate 1000 independent samples $(X_i,Y_i)$, and plot them using a scatterplot, along with the lines $y=0$ and $y=e^{-x^2/2}$.\n",
    "\n",
    "(Hint: Try to 'reverse' what we do in Acceptance-Rejection).\n",
    "___"
   ]
  },
  {
   "cell_type": "markdown",
   "metadata": {
    "id": "EGsUT8JvwI-7"
   },
   "source": [
    "## Ans."
   ]
  },
  {
   "cell_type": "code",
   "execution_count": 14,
   "metadata": {
    "id": "CGZf5O0Kx9Ws"
   },
   "outputs": [
    {
     "data": {
      "image/png": "[encoded data removed]",
      "text/plain": [
       "<Figure size 432x288 with 1 Axes>"
      ]
     },
     "metadata": {
      "needs_background": "light"
     },
     "output_type": "display_data"
    }
   ],
   "source": [
    "import numpy as np\n",
    "import matplotlib.pyplot as plt\n",
    "\n",
    "# Set the number of samples\n",
    "num_samples = 1000\n",
    "\n",
    "# Generate random x values uniformly distributed over a range (adjust as needed)\n",
    "x_values = np.random.normal(0, 1, num_samples)\n",
    "\n",
    "upper_bounds = np.exp(-x_values**2/2)\n",
    "\n",
    "# Generate samples from a uniform distribution for each x_value\n",
    "uniform_samples = np.random.uniform(0, upper_bounds, len(x_values))\n",
    "\n",
    "# Create a scatterplot of the points\n",
    "plt.scatter(x_values, uniform_samples, s=10, alpha=0.5, label='Samples')\n",
    "\n",
    "\n",
    "# Set labels and legend\n",
    "plt.xlabel('x')\n",
    "plt.ylabel('y')\n",
    "plt.legend()\n",
    "\n",
    "# Show the plot\n",
    "plt.grid()\n",
    "plt.title('Scatterplot of Uniformly Distributed Points in S')\n",
    "plt.show()"
   ]
  },
  {
   "cell_type": "markdown",
   "metadata": {
    "id": "QhBwTPrLwKhV"
   },
   "source": [
    "___\n",
    "**(b)** Next, suppose we want to sample points which are uniformly distributed on the set $\\{(x,y)\\in\\mathbb{R}^2|x^2+y^2 = 1\\}$ (i.e., on the *circumference* of the unit circle). One way to do so may be to generate points $(U_i,V_i)$ uniformly in $[-1,1]^2$ (like in the first homework), and then *project* them to the circle, i.e., take $(X_i,Y_i) = \\left(\\frac{U_i}{\\sqrt{U_i^2+V_i^2}},\\frac{V_i}{\\sqrt{U_i^2+V_i^2}}\\right)$. Generate $1000$ points in this way, and plot them using a scatter plot.\n",
    "\n",
    "Are these uniformly distributed on the circumference of the circle? Try checking the histogram of their angles (i.e., the histogram of $\\theta_i = \\tan^{-1}(Y_i/X_i)$).\n",
    "___"
   ]
  },
  {
   "cell_type": "markdown",
   "metadata": {
    "id": "_u8ikVrMx664"
   },
   "source": [
    "## Ans."
   ]
  },
  {
   "cell_type": "code",
   "execution_count": 18,
   "metadata": {
    "id": "L9gMbHO2x8cT"
   },
   "outputs": [
    {
     "data": {
      "image/png": "[encoded data removed]",
      "text/plain": [
       "<Figure size 432x432 with 1 Axes>"
      ]
     },
     "metadata": {
      "needs_background": "light"
     },
     "output_type": "display_data"
    },
    {
     "data": {
      "image/png": "[encoded data removed]",
      "text/plain": [
       "<Figure size 432x288 with 1 Axes>"
      ]
     },
     "metadata": {
      "needs_background": "light"
     },
     "output_type": "display_data"
    }
   ],
   "source": [
    "\n",
    "import numpy as np\n",
    "import matplotlib.pyplot as plt\n",
    "\n",
    "# Set the number of points\n",
    "num_points = 1000\n",
    "\n",
    "# Generate random points uniformly in the square [-1, 1] x [-1, 1]\n",
    "u_values = np.random.uniform(-1, 1, num_points)\n",
    "v_values = np.random.uniform(-1, 1, num_points)\n",
    "\n",
    "# Project the points onto the unit circle\n",
    "x_values = u_values / np.sqrt(u_values**2 + v_values**2)\n",
    "y_values = v_values / np.sqrt(u_values**2 + v_values**2)\n",
    "\n",
    "# Create a scatterplot of the points\n",
    "plt.figure(figsize=(6, 6))\n",
    "plt.scatter(x_values, y_values, s=10, alpha=0.5, label='Samples')\n",
    "\n",
    "# Plot the unit circle\n",
    "circle = plt.Circle((0, 0), 1, color='red', fill=False, label='Unit Circle')\n",
    "plt.gca().add_patch(circle)\n",
    "\n",
    "# Set axis limits and labels\n",
    "plt.xlim(-1.2, 1.2)\n",
    "plt.ylim(-1.2, 1.2)\n",
    "plt.xlabel('X')\n",
    "plt.ylabel('Y')\n",
    "\n",
    "# Add a legend\n",
    "plt.legend()\n",
    "\n",
    "# Show the plot\n",
    "plt.grid()\n",
    "plt.title('Scatterplot of Points on the Unit Circle')\n",
    "plt.show()\n",
    "\n",
    "\n",
    "# Calculate the angles\n",
    "angles = np.arctan2(y_values, x_values)\n",
    "\n",
    "# Create a histogram of the angles\n",
    "plt.hist(angles, bins=50, density=True, alpha=0.7, color='blue')\n",
    "plt.xlabel('Angle (θ)')\n",
    "plt.ylabel('Probability Density')\n",
    "plt.title('Histogram of Angles on the Unit Circle')\n",
    "plt.grid()\n",
    "\n",
    "# Show the plot\n",
    "plt.show()"
   ]
  },
  {
   "cell_type": "markdown",
   "metadata": {},
   "source": [
    "Reference: Chatgpt"
   ]
  },
  {
   "cell_type": "markdown",
   "metadata": {},
   "source": [
    "As we can see from the histogram, the distribution is not unifrom on the circumference of the circle."
   ]
  },
  {
   "cell_type": "markdown",
   "metadata": {
    "id": "fT4Jt0Inx99q"
   },
   "source": [
    "\n",
    "\n",
    "---\n",
    "\n",
    "**(c)** Next, generate points $(Z_i,W_i)$ as independent standard normals (i.e., $(Z_i,W_i)\\sim \\mathcal{N}(0,I_2)$, and again project them to the circle, i.e., take $(X_i,Y_i) = \\left(\\frac{Z_i}{\\sqrt{Z_i^2+W_i^2}},\\frac{W_i}{\\sqrt{Z_i^2+W_i^2}}\\right)$. Generate $1000$ points in this way, and plot them using a scatter plot.\n",
    "\n",
    "Are these uniformly distributed on the circumference of the circle? Again, check the histogram of their angles $\\theta_i$. Can you explain the difference between parts (b) and (c)?\n",
    "\n",
    "___"
   ]
  },
  {
   "cell_type": "markdown",
   "metadata": {
    "id": "g4c_Csc_ywpw"
   },
   "source": [
    "## Ans."
   ]
  },
  {
   "cell_type": "code",
   "execution_count": 19,
   "metadata": {
    "id": "NkcHgFB4yy41"
   },
   "outputs": [
    {
     "data": {
      "image/png": "[encoded data removed]",
      "text/plain": [
       "<Figure size 432x432 with 1 Axes>"
      ]
     },
     "metadata": {
      "needs_background": "light"
     },
     "output_type": "display_data"
    }
   ],
   "source": [
    "import numpy as np\n",
    "import matplotlib.pyplot as plt\n",
    "\n",
    "# Set the number of points\n",
    "num_points = 1000\n",
    "\n",
    "# Generate random standard normal variables Z and W\n",
    "z_values = np.random.normal(0, 1, num_points)\n",
    "w_values = np.random.normal(0, 1, num_points)\n",
    "\n",
    "# Project the points onto the unit circle\n",
    "x_values = z_values / np.sqrt(z_values**2 + w_values**2)\n",
    "y_values = w_values / np.sqrt(z_values**2 + w_values**2)\n",
    "\n",
    "# Create a scatterplot of the points\n",
    "plt.figure(figsize=(6, 6))\n",
    "plt.scatter(x_values, y_values, s=10, alpha=0.5, label='Samples')\n",
    "\n",
    "# Plot the unit circle\n",
    "circle = plt.Circle((0, 0), 1, color='red', fill=False, label='Unit Circle')\n",
    "plt.gca().add_patch(circle)\n",
    "\n",
    "# Set axis limits and labels\n",
    "plt.xlim(-1.2, 1.2)\n",
    "plt.ylim(-1.2, 1.2)\n",
    "plt.xlabel('X')\n",
    "plt.ylabel('Y')\n",
    "\n",
    "# Add a legend\n",
    "plt.legend()\n",
    "\n",
    "# Show the plot\n",
    "plt.grid()\n",
    "plt.title('Scatterplot of Points on the Unit Circle (Standard Normals)')\n",
    "plt.show()"
   ]
  },
  {
   "cell_type": "code",
   "execution_count": 20,
   "metadata": {},
   "outputs": [
    {
     "data": {
      "image/png": "[encoded data removed]",
      "text/plain": [
       "<Figure size 432x288 with 1 Axes>"
      ]
     },
     "metadata": {
      "needs_background": "light"
     },
     "output_type": "display_data"
    }
   ],
   "source": [
    "# Calculate the angles for the points\n",
    "angles = np.arctan2(y_values, x_values)\n",
    "\n",
    "# Create a histogram of the angles\n",
    "plt.hist(angles, bins=50, density=True, alpha=0.7, color='blue')\n",
    "plt.xlabel('Angle (θ)')\n",
    "plt.ylabel('Probability Density')\n",
    "plt.title('Histogram of Angles on the Unit Circle (Standard Normals)')\n",
    "plt.grid()\n",
    "\n",
    "# Show the plot\n",
    "plt.show()"
   ]
  },
  {
   "cell_type": "markdown",
   "metadata": {},
   "source": [
    "Reference: Chatgpt"
   ]
  },
  {
   "cell_type": "markdown",
   "metadata": {},
   "source": [
    "As we can see from the histogram, the distribution is almost unifrom on the circumference of the circle.\n",
    "In part(b) I generated points uniformly distributed on the circumference of the unit circle by projecting random points from a square onto the circle. The distribution of angles in this case is not uniform because the transformation from the square to the circle introduces a distortion since the area inside the unit circle is different that the area outside of the unit circle. Therefore when projecting, points near corners will be projected into certain angles and result in a more dense distribution there. \n",
    "part (c) takes advantage of the natural properties of the standard normal distribution and the independence of components to ensure a more uniform distribution of points on the unit circle after projection. The standard normal distribution is symmetric around its mean, which is at 0. This means that the probability of generating values that are far from 0 is lower compared to values closer to 0. In other words, points generated from the standard normal distribution tend to be concentrated around the mean (0), resulting in a denser distribution near the origin.\\\n",
    "\\\n",
    "\\\n",
    "\\\n",
    "\\\n",
    "\\\n",
    "\\\n",
    "\\"
   ]
  },
  {
   "cell_type": "code",
   "execution_count": null,
   "metadata": {},
   "outputs": [],
   "source": []
  },
  {
   "cell_type": "code",
   "execution_count": null,
   "metadata": {},
   "outputs": [],
   "source": []
  },
  {
   "cell_type": "code",
   "execution_count": null,
   "metadata": {},
   "outputs": [],
   "source": []
  },
  {
   "cell_type": "code",
   "execution_count": null,
   "metadata": {},
   "outputs": [],
   "source": []
  },
  {
   "cell_type": "markdown",
   "metadata": {
    "id": "FJhVnfbFb4GI"
   },
   "source": [
    "___\n",
    "___\n",
    "\n",
    "# Question 4: The Inspection paradox (30 pts)\n",
    "\n",
    "Have you ever felt like you wait too long for elevators, taxis, buses, etc.? Guess what - you may be right!\n",
    "\n",
    "We are going to simulate a number of train and passenger arrivals at a station, and try to measure the time each passenger needs to wait for a train. To do this, first generate a stream of 10,000 train passengers, each of whom have an independent arrival time which is uniformly distributed over an interval of 1,000 minutes (i.e., passenger $i$ arrives at time $T_i\\sim [0,1,000]$. Sort the passengers by arrival time, and use this resulting vector for all subsequent parts."
   ]
  },
  {
   "cell_type": "code",
   "execution_count": 67,
   "metadata": {
    "scrolled": true
   },
   "outputs": [],
   "source": [
    "import numpy as np\n",
    "\n",
    "# Set the number of passengers\n",
    "num_passengers = 10000\n",
    "\n",
    "# Generate random arrival times uniformly distributed in [0, 1000]\n",
    "arrival_times = np.random.uniform(0, 1000, num_passengers)\n",
    "\n",
    "# Sort the passengers by arrival time\n",
    "sorted_arrival_times = np.sort(arrival_times)\n",
    "\n",
    "class Passenger:\n",
    "    def __init__(self, passenger_id, arrival_time):\n",
    "        self.passenger_id = passenger_id\n",
    "        self.arrival_time = arrival_time\n",
    "        self.waiting_time = None  # Initialize waiting time as None\n",
    "\n",
    "    def wait_time(self):\n",
    "        if self.arrival_time % 10 == 0:\n",
    "            self.waiting_time = 0\n",
    "        else:\n",
    "            tenth = self.arrival_time // 10\n",
    "            self.waiting_time = 10* tenth +10 - self.arrival_time\n",
    "        return self.waiting_time\n",
    "    "
   ]
  },
  {
   "cell_type": "markdown",
   "metadata": {},
   "source": [
    "We will use sorted_arrival_times as passengers' arrival times in the following."
   ]
  },
  {
   "cell_type": "markdown",
   "metadata": {
    "id": "xCLoBig-b4GI"
   },
   "source": [
    "___\n",
    "\n",
    "**(a)** Suppose trains arrive at the station deterministically every 10 minutes. Assume each train has infinite capacity, so that everyone waiting at the station when a train arrives can get on; also assume that passengers get on the train instantaneously. Estimate the expected time (with CIs) that any *randomly chosen* passenger spends waiting at the station for the next train.\n",
    "___\n"
   ]
  },
  {
   "cell_type": "markdown",
   "metadata": {
    "id": "YljDZzRgp_G8"
   },
   "source": [
    "## Ans."
   ]
  },
  {
   "cell_type": "code",
   "execution_count": 68,
   "metadata": {
    "id": "77FZ8tmCb4GI"
   },
   "outputs": [
    {
     "name": "stdout",
     "output_type": "stream",
     "text": [
      "Expected Waiting Time: 5.05 minutes\n",
      "CI is [ 4.990326476524938 , 5.103281306446679 ]\n"
     ]
    }
   ],
   "source": [
    "# Calculate waiting time for each passneger and store it in waiting_time list\n",
    "passengers = []\n",
    "waiting_time = []\n",
    "for i in range(num_passengers):\n",
    "    arrival_time = sorted_arrival_times[i]\n",
    "    passenger = Passenger(i, arrival_time)\n",
    "    passengers.append(passenger)\n",
    "    wait_time = passenger.wait_time()\n",
    "    waiting_time.append(wait_time)\n",
    "\n",
    "average_waiting_time = np.mean(waiting_time)\n",
    "\n",
    "# Print the result\n",
    "print(f\"Expected Waiting Time: {average_waiting_time:.2f} minutes\")\n",
    "\n",
    "###CI\n",
    "std = np.std(waiting_time)\n",
    "lower_bound = average_waiting_time -1.96*std/np.sqrt(10000)\n",
    "upper_bound = average_waiting_time +1.96*std/np.sqrt(10000)\n",
    "print('CI is [',lower_bound,',', upper_bound,']' )"
   ]
  },
  {
   "cell_type": "markdown",
   "metadata": {
    "id": "HBT-fHg8b4GI"
   },
   "source": [
    "___\n",
    "**(b)** Next, assume trains arrive at the station with *inter-arrival* time (i.e., time between two trains) distributed according to an exponential distribution with mean 10 minutes. Again, use your vector of passenger arrival times to estimate the expected waiting time for a randomly chosen passenger.\n",
    "___\n"
   ]
  },
  {
   "cell_type": "markdown",
   "metadata": {
    "id": "0cfhwR8NqeWa"
   },
   "source": [
    "## Ans."
   ]
  },
  {
   "cell_type": "code",
   "execution_count": 69,
   "metadata": {
    "id": "Ehn4QDNZb4GI"
   },
   "outputs": [],
   "source": [
    "mean_interarrival_time = 10  # minutes\n",
    "train_arrival_times = np.cumsum(np.random.exponential(scale=mean_interarrival_time, size=110))\n",
    "\n",
    "closest_train_arrival_time = min(filter(lambda x: x > arrival_time, train_arrival_times))\n"
   ]
  },
  {
   "cell_type": "code",
   "execution_count": 70,
   "metadata": {},
   "outputs": [
    {
     "name": "stdout",
     "output_type": "stream",
     "text": [
      "[   8.31365206   11.96567456   40.36685435   53.28244217   55.59573567\n",
      "   60.09820331   86.72655494  107.98489727  115.38703776  129.53995629\n",
      "  133.64440439  140.38202765  147.43800989  162.4361178   168.62562863\n",
      "  176.2101243   181.59474536  191.85109683  198.36630328  221.12468901\n",
      "  222.36472949  227.65374543  228.40011459  234.703692    234.90475877\n",
      "  241.17504539  243.40846443  248.56295397  259.78207056  282.78606211\n",
      "  289.78219096  304.42410462  305.78309307  307.15025238  333.16808558\n",
      "  337.75975189  345.75695236  392.39132689  397.19789668  413.97140574\n",
      "  414.02777877  416.03763253  437.08922275  439.11954392  440.98943689\n",
      "  461.30124333  462.79713783  464.78991256  478.60964764  479.97403883\n",
      "  480.08058874  480.34908881  496.17269578  507.8613338   513.77137038\n",
      "  530.66193788  539.3133205   550.50138163  550.75387957  552.15165655\n",
      "  595.96057718  596.25975575  605.33825507  606.44769325  626.3020658\n",
      "  627.0574909   645.76104443  658.38655397  668.4516926   682.83557319\n",
      "  695.13264207  719.26320759  729.57093771  735.3698837   743.47455892\n",
      "  767.36148375  784.53644125  784.98281542  790.72714718  810.15410235\n",
      "  822.38352208  827.44316623  829.73863329  837.31046317  837.55017941\n",
      "  865.39584418  893.06846098  895.89794388  906.00077132  914.53977993\n",
      "  954.51659266  955.88553341  990.13274399  998.55950512 1001.89724636\n",
      " 1019.46975769 1029.47700707 1036.03884894 1036.91754672 1062.89008803\n",
      " 1075.34648913 1085.73708635 1088.62757567 1096.93102238 1102.9070352\n",
      " 1120.80029107 1155.42338708 1157.13676293 1160.57996799 1168.40732369]\n",
      "110\n"
     ]
    }
   ],
   "source": [
    "print(train_arrival_times)\n",
    "print(len(train_arrival_times))"
   ]
  },
  {
   "cell_type": "code",
   "execution_count": 71,
   "metadata": {
    "scrolled": true
   },
   "outputs": [],
   "source": [
    "waiting_time_b = []\n",
    "for i in range(num_passengers):\n",
    "    closest_train_arrival_time = min(filter(lambda x: x > sorted_arrival_times[i], train_arrival_times))\n",
    "    wait_time = closest_train_arrival_time - sorted_arrival_times[i]\n",
    "    waiting_time_b.append(wait_time)"
   ]
  },
  {
   "cell_type": "code",
   "execution_count": 72,
   "metadata": {},
   "outputs": [
    {
     "name": "stdout",
     "output_type": "stream",
     "text": [
      "The mean waiting time is  10.046096555828832\n",
      "The CI is [ 9.868630091567427 , 10.223563020090237 ]\n"
     ]
    }
   ],
   "source": [
    "#print(waiting_time_b)\n",
    "#print(waiting_time_b)\n",
    "print('The mean waiting time is ',np.mean(waiting_time_b))\n",
    "lower_bound_b = np.mean(waiting_time_b) - 1.96 * np.std(waiting_time_b)/np.sqrt(10000)\n",
    "#print(lower_bound_b)\n",
    "upper_bound_b = np.mean(waiting_time_b) + 1.96 * np.std(waiting_time_b)/np.sqrt(10000)\n",
    "#print(upper_bound_b)\n",
    "print('The CI is [',lower_bound_b,',',upper_bound_b,']')"
   ]
  },
  {
   "cell_type": "markdown",
   "metadata": {
    "id": "okLmo5b2b4GI"
   },
   "source": [
    "___\n",
    "\n",
    "**(c)** (Hopefully, you found the answer in part (b) to be different, and surprisingly so, compared to part (a).)\n",
    "\n",
    "The train service claims that there is a train every $10$ minutes on average. In part (a), this is clearly the case, but is it so in part (b) as well? To understand this, use your data from part (b) to compute an empirical estimate with CIs for the inter-arrival times between trains.\n",
    "\n",
    "___"
   ]
  },
  {
   "cell_type": "code",
   "execution_count": 73,
   "metadata": {
    "id": "oz3YDgLpb4GI"
   },
   "outputs": [
    {
     "name": "stdout",
     "output_type": "stream",
     "text": [
      "The mean is  10.643061207598711\n",
      "The CI is [ 10.447650182963399 , 10.838472232234023 ]\n"
     ]
    }
   ],
   "source": [
    "# Calculate individual time intervals between consecutive arrivals\n",
    "inter_arrival = np.diff(train_arrival_times) # my train_arrival_times has 10100 values but only\n",
    "#print(inter_arrival)\n",
    "mean_inter_arrival =np.mean(inter_arrival)\n",
    "print('The mean is ', mean_inter_arrival)\n",
    "std_inter_arrival = np.std(inter_arrival)/np.sqrt(10000)\n",
    "#print(std_inter_arrival)\n",
    "\n",
    "\n",
    "lower_bound_inter_arrival = mean_inter_arrival- 1.96 * std_inter_arrival\n",
    "upper_bound_inter_arrival = mean_inter_arrival + 1.96 * std_inter_arrival\n",
    "print('The CI is [',lower_bound_inter_arrival,',',upper_bound_inter_arrival,']')\n"
   ]
  },
  {
   "cell_type": "markdown",
   "metadata": {
    "id": "rVl8W5m9b4GI"
   },
   "source": [
    "___\n",
    "\n",
    "**(d)** To understand what may be happening between parts (a) and (b), use the data from the simulations in parts (a) and (b) to estimate the average inter-arrival time between trains that each passenger experiences in each case. In other words, if passenger $i$ gets on train number $n$, thn we want to define his inter-arrival time $I_i$ to be the difference $A_n~-~A_{n-1}$ where $A_n$ is the arrival time of train $n$.\n",
    "\n",
    "Compute the sample mean and CI of the interval $I_i$ for a randomly chosen passenger $i$ in each of the two settings. How are these related to the waiting time estimates you got in each part? Can you explain this?\n",
    "\n",
    "___"
   ]
  },
  {
   "cell_type": "markdown",
   "metadata": {
    "id": "rKyZ12L2srUZ"
   },
   "source": [
    "## Ans."
   ]
  },
  {
   "cell_type": "code",
   "execution_count": 74,
   "metadata": {
    "scrolled": true
   },
   "outputs": [
    {
     "name": "stdout",
     "output_type": "stream",
     "text": [
      "[   8.31365206   11.96567456   40.36685435   53.28244217   55.59573567\n",
      "   60.09820331   86.72655494  107.98489727  115.38703776  129.53995629\n",
      "  133.64440439  140.38202765  147.43800989  162.4361178   168.62562863\n",
      "  176.2101243   181.59474536  191.85109683  198.36630328  221.12468901\n",
      "  222.36472949  227.65374543  228.40011459  234.703692    234.90475877\n",
      "  241.17504539  243.40846443  248.56295397  259.78207056  282.78606211\n",
      "  289.78219096  304.42410462  305.78309307  307.15025238  333.16808558\n",
      "  337.75975189  345.75695236  392.39132689  397.19789668  413.97140574\n",
      "  414.02777877  416.03763253  437.08922275  439.11954392  440.98943689\n",
      "  461.30124333  462.79713783  464.78991256  478.60964764  479.97403883\n",
      "  480.08058874  480.34908881  496.17269578  507.8613338   513.77137038\n",
      "  530.66193788  539.3133205   550.50138163  550.75387957  552.15165655\n",
      "  595.96057718  596.25975575  605.33825507  606.44769325  626.3020658\n",
      "  627.0574909   645.76104443  658.38655397  668.4516926   682.83557319\n",
      "  695.13264207  719.26320759  729.57093771  735.3698837   743.47455892\n",
      "  767.36148375  784.53644125  784.98281542  790.72714718  810.15410235\n",
      "  822.38352208  827.44316623  829.73863329  837.31046317  837.55017941\n",
      "  865.39584418  893.06846098  895.89794388  906.00077132  914.53977993\n",
      "  954.51659266  955.88553341  990.13274399  998.55950512 1001.89724636\n",
      " 1019.46975769 1029.47700707 1036.03884894 1036.91754672 1062.89008803\n",
      " 1075.34648913 1085.73708635 1088.62757567 1096.93102238 1102.9070352\n",
      " 1120.80029107 1155.42338708 1157.13676293 1160.57996799 1168.40732369]\n"
     ]
    }
   ],
   "source": [
    "print(train_arrival_times)"
   ]
  },
  {
   "cell_type": "code",
   "execution_count": 75,
   "metadata": {},
   "outputs": [
    {
     "name": "stdout",
     "output_type": "stream",
     "text": [
      "[1.27208829e-01 1.85613600e-01 2.46801965e-01 ... 9.99547240e+02\n",
      " 9.99606717e+02 9.99844856e+02]\n"
     ]
    }
   ],
   "source": [
    "print(sorted_arrival_times)"
   ]
  },
  {
   "cell_type": "code",
   "execution_count": 76,
   "metadata": {},
   "outputs": [
    {
     "name": "stdout",
     "output_type": "stream",
     "text": [
      "[2, 1, 3, 2, 2]\n"
     ]
    }
   ],
   "source": [
    "def find_smallest_difference(A, B):\n",
    "    result = []\n",
    "    i = 0  # Initialize the index in array B\n",
    "\n",
    "    for a in A:\n",
    "        # Find the smallest element in B that is greater than or equal to a\n",
    "        while i < len(B) and B[i] < a:\n",
    "            i += 1\n",
    "\n",
    "        # Calculate B[i] - B[i-1] and append it to the result list\n",
    "        if i == 0:\n",
    "            result.append(B[i])\n",
    "        elif i == len(B):\n",
    "            result.append(None)  # No greater or equal element found in B\n",
    "        else:\n",
    "            result.append(B[i] - B[i - 1])\n",
    "\n",
    "    return result\n",
    "\n",
    "# Example usage:\n",
    "A = [1, 3, 5, 7, 9]\n",
    "B = [2, 3, 6, 8, 10]\n",
    "differences = find_smallest_difference(A, B)\n",
    "print(differences)  # Output: [2, 2, 2, 2, 2]"
   ]
  },
  {
   "cell_type": "code",
   "execution_count": 77,
   "metadata": {
    "id": "vl7qScg0b4GI"
   },
   "outputs": [
    {
     "name": "stdout",
     "output_type": "stream",
     "text": [
      "The mean of the second setting is 20.171332905383146\n",
      "CI of the second setting is [ 19.935555084672604 20.407110726093688 ]\n"
     ]
    }
   ],
   "source": [
    "# Initialize a list to store the differences\n",
    "differences = find_smallest_difference(sorted_arrival_times, train_arrival_times)\n",
    "low = np.mean(differences)-1.96 *np.std(differences )/np.sqrt(10000)\n",
    "up = np.mean(differences)+ 1.96 *np.std(differences )/np.sqrt(10000)\n",
    "print('The mean of the second setting is',np.mean(differences))\n",
    "\n",
    "print(\"CI of the second setting is [\",low,up,']' )"
   ]
  },
  {
   "cell_type": "code",
   "execution_count": 78,
   "metadata": {},
   "outputs": [
    {
     "name": "stdout",
     "output_type": "stream",
     "text": [
      "The mean of the first setting is 10.0\n",
      "CI of the second setting is [ 10.0 , 10.0 ]\n"
     ]
    }
   ],
   "source": [
    "train_arrival_times_first = [i for i in range(0, 1001, 10)]\n",
    "#print(train_arrival_times_first)\n",
    "difference_first = find_smallest_difference(sorted_arrival_times, train_arrival_times_first)\n",
    "#print(difference_first)\n",
    "print('The mean of the first setting is',np.mean(difference_first))\n",
    "print(\"CI of the second setting is [\",np.mean(difference_first)-1.96*np.std(difference_first)/np.sqrt(10000),',',np.mean(difference_first)+1.96 *np.std(difference_first)/np.sqrt(10000),']' )"
   ]
  },
  {
   "cell_type": "markdown",
   "metadata": {},
   "source": [
    "* (The first Setting ) Since the inter-arrival time between two trains is always 10, so it's intuitive that mean is 10 and CI is [10,10]\n",
    "* (Second Setting)The mean is higher than the previous parts which I think is intuitive. Because the I_i we used here is a similar concept to a passenger's waiting time except that we assume every passenger arrives right after the previous train left, so he/she will wait the whole inter-arrival time between two trains. The reason we get numbers that are larger than part(a) and part(b) is that, every number in our sample is greater or equal to sample in previous parts. For example, in part (a), if a passenger arrives at 5, the waiting time for her/him is 10-5 =5, but in (d) we use 10-0=10. That's why the mean is larger. However the CI range are similar to (b) and (c)"
   ]
  },
  {
   "cell_type": "markdown",
   "metadata": {
    "id": "adS-uJlsuEPA"
   },
   "source": [
    "**(e) (Optional for all students)** Based on your previous parts, can you come up with an explanation for what is going on?  "
   ]
  },
  {
   "cell_type": "code",
   "execution_count": null,
   "metadata": {},
   "outputs": [],
   "source": []
  },
  {
   "cell_type": "markdown",
   "metadata": {},
   "source": [
    "# "
   ]
  }
 ],
 "metadata": {
  "colab": {
   "provenance": []
  },
  "kernelspec": {
   "display_name": "Python 3 (ipykernel)",
   "language": "python",
   "name": "python3"
  },
  "language_info": {
   "codemirror_mode": {
    "name": "ipython",
    "version": 3
   },
   "file_extension": ".py",
   "mimetype": "text/x-python",
   "name": "python",
   "nbconvert_exporter": "python",
   "pygments_lexer": "ipython3",
   "version": "3.9.7"
  }
 },
 "nbformat": 4,
 "nbformat_minor": 1
}
